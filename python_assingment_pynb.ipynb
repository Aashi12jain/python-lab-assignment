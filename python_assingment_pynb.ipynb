{
  "cells": [
    {
      "cell_type": "markdown",
      "metadata": {
        "id": "EKiJbrg3ecvr"
      },
      "source": [
        "1.\tWrite a Python program to calculate the area of a circle given its radius."
      ]
    },
    {
      "cell_type": "code",
      "execution_count": null,
      "metadata": {
        "colab": {
          "base_uri": "https://localhost:8080/"
        },
        "id": "RBdchqojfqmF",
        "outputId": "40bc72c9-14f7-4687-f3c9-3d4f8221348b"
      },
      "outputs": [
        {
          "name": "stdout",
          "output_type": "stream",
          "text": [
            "Enter the radius of the circle: 5\n",
            "The area of the circle is: 78.5\n"
          ]
        }
      ],
      "source": [
        "def calculate_circle_area(radius):\n",
        "  return 3.14 * radius**2\n",
        "radius = float(input(\"Enter the radius of the circle: \"))\n",
        "area = calculate_circle_area(radius)\n",
        "print(\"The area of the circle is:\", area)"
      ]
    },
    {
      "cell_type": "markdown",
      "metadata": {
        "id": "fxGuOx2ygFN0"
      },
      "source": [
        "2.\tCreate a program that takes user input for a temperature in Celsius and converts it to Fahrenheit."
      ]
    },
    {
      "cell_type": "code",
      "execution_count": null,
      "metadata": {
        "colab": {
          "base_uri": "https://localhost:8080/"
        },
        "id": "bhG4joYQgJ6z",
        "outputId": "acb3a249-f4aa-4253-e266-bf4929ce57ea"
      },
      "outputs": [
        {
          "name": "stdout",
          "output_type": "stream",
          "text": [
            "Enter the temperature in Celsius: 45\n",
            "The temperature in Fahrenheit is: 113.0\n"
          ]
        }
      ],
      "source": [
        "input_celsius = float(input(\"Enter the temperature in Celsius: \"))\n",
        "fahrenheit = (input_celsius * 9/5) + 32\n",
        "print(\"The temperature in Fahrenheit is:\", fahrenheit)"
      ]
    },
    {
      "cell_type": "markdown",
      "metadata": {
        "id": "K255a1O0g1g-"
      },
      "source": [
        "3.\tImplement a calculator that performs basic arithmetic operations (addition, subtraction, multiplication, division) based on user input."
      ]
    },
    {
      "cell_type": "code",
      "execution_count": null,
      "metadata": {
        "colab": {
          "base_uri": "https://localhost:8080/"
        },
        "id": "m-U5y4mW_QOT",
        "outputId": "84b4b8b2-dc4a-414f-86a7-4ec25f4818db"
      },
      "outputs": [
        {
          "name": "stdout",
          "output_type": "stream",
          "text": [
            "Enter the first number: 5\n",
            "Enter the operator (+, -, *, /): +\n",
            "Enter the second number: 5\n",
            "The result is: 10.0\n"
          ]
        }
      ],
      "source": [
        "def calculator():\n",
        "  num1 = float(input(\"Enter the first number: \"))\n",
        "  operator = input(\"Enter the operator (+, -, *, /): \")\n",
        "  num2 = float(input(\"Enter the second number: \"))\n",
        "  if operator == \"+\":\n",
        "    result = num1 + num2\n",
        "  elif operator == \"-\":\n",
        "    result = num1 - num2\n",
        "  elif operator == \"*\":\n",
        "    result = num1 * num2\n",
        "  elif operator == \"/\":\n",
        "    if num2 == 0:\n",
        "      return \"Error: Division by zero is not allowed.\"\n",
        "    result = num1 / num2\n",
        "  else:\n",
        "    return \"Error: Invalid operator.\"\n",
        "\n",
        "  print(\"The result is:\", result)\n",
        "calculator()"
      ]
    },
    {
      "cell_type": "markdown",
      "metadata": {
        "id": "06O6ALKpIUri"
      },
      "source": [
        "5.\tDevelop a function that takes a string as input and returns the string reversed."
      ]
    },
    {
      "cell_type": "code",
      "execution_count": null,
      "metadata": {
        "colab": {
          "base_uri": "https://localhost:8080/"
        },
        "id": "LRpE4R2SJy9g",
        "outputId": "b1b68e35-07d0-4941-8cb6-02ac792f8cf5"
      },
      "outputs": [
        {
          "name": "stdout",
          "output_type": "stream",
          "text": [
            "Enter a string: aashi\n",
            "The reversed string is: ihsaa\n"
          ]
        }
      ],
      "source": [
        "def reverse_string(string):\n",
        "  return string[::-1]\n",
        "\n",
        "string = input(\"Enter a string: \")\n",
        "reversed_string = reverse_string(string)\n",
        "print(\"The reversed string is:\", reversed_string)"
      ]
    },
    {
      "cell_type": "markdown",
      "metadata": {
        "id": "xIn1gxGVLkTy"
      },
      "source": [
        "6.\tCreate a program that asks the user for their age and prints whether they are a minor, adult, or senior."
      ]
    },
    {
      "cell_type": "code",
      "execution_count": null,
      "metadata": {
        "colab": {
          "base_uri": "https://localhost:8080/"
        },
        "id": "_QFIdXmtL77P",
        "outputId": "e82cf466-e234-4d70-f97b-80052ca6d9c2"
      },
      "outputs": [
        {
          "name": "stdout",
          "output_type": "stream",
          "text": [
            "Enter your age: 20\n",
            "You are an adult.\n"
          ]
        }
      ],
      "source": [
        "def determine_age_category():\n",
        "  age = int(input(\"Enter your age: \"))\n",
        "  if age < 18:\n",
        "    print(\"You are a minor.\")\n",
        "  elif age >= 18 and age < 65:\n",
        "    print(\"You are an adult.\")\n",
        "  else:\n",
        "    print(\"You are a senior.\")\n",
        "determine_age_category()"
      ]
    },
    {
      "cell_type": "markdown",
      "metadata": {
        "id": "6RrKgcykMJ1s"
      },
      "source": [
        "7.\tWrite a program that evaluates three numbers and prints the largest one."
      ]
    },
    {
      "cell_type": "code",
      "execution_count": null,
      "metadata": {
        "colab": {
          "base_uri": "https://localhost:8080/"
        },
        "id": "T7Zntzk_GRQU",
        "outputId": "8a9e17e8-4d0a-4cc3-de7e-5cdd59e60c12"
      },
      "outputs": [
        {
          "name": "stdout",
          "output_type": "stream",
          "text": [
            "Enter the first number: 10\n",
            "Enter the second number: 25\n",
            "Enter the third number: 15\n",
            "The largest number is: 25.0\n"
          ]
        }
      ],
      "source": [
        "def find_largest_number(num1, num2, num3):\n",
        "\n",
        "  if num1 >= num2 and num1 >= num3:\n",
        "    largest = num1\n",
        "  elif num2 >= num1 and num2 >= num3:\n",
        "    largest = num2\n",
        "  else:\n",
        "    largest = num3\n",
        "\n",
        "  print(\"The largest number is:\", largest)\n",
        "\n",
        "num1 = float(input(\"Enter the first number: \"))\n",
        "num2 = float(input(\"Enter the second number: \"))\n",
        "num3 = float(input(\"Enter the third number: \"))\n",
        "\n",
        "find_largest_number(num1, num2, num3)"
      ]
    },
    {
      "cell_type": "markdown",
      "metadata": {
        "id": "xSWoJAzBHHLN"
      },
      "source": [
        "8.\tImplement a program that gives feedback based on a user's score (A, B, C, D, F)."
      ]
    },
    {
      "cell_type": "code",
      "execution_count": null,
      "metadata": {
        "colab": {
          "base_uri": "https://localhost:8080/"
        },
        "id": "1663yA23HSXn",
        "outputId": "d05da5f7-f0e8-43d2-ce66-5e195220de7e"
      },
      "outputs": [
        {
          "name": "stdout",
          "output_type": "stream",
          "text": [
            "Enter your score: 88\n",
            "Great job! You got a B.\n"
          ]
        }
      ],
      "source": [
        "def give_feedback(score):\n",
        "  if score >= 90:\n",
        "    feedback = \"Excellent! You got an A.\"\n",
        "  elif score >= 80:\n",
        "    feedback = \"Great job! You got a B.\"\n",
        "  elif score >= 70:\n",
        "    feedback = \"Good work! You got a C.\"\n",
        "  elif score >= 60:\n",
        "    feedback = \"You passed with a D. There's room for improvement.\"\n",
        "  else:\n",
        "    feedback = \"Unfortunately, you failed with an F. Please try again.\"\n",
        "\n",
        "  print(feedback)\n",
        "score = float(input(\"Enter your score: \"))\n",
        "give_feedback(score)"
      ]
    },
    {
      "cell_type": "markdown",
      "metadata": {
        "id": "jHwcAutAHUIu"
      },
      "source": [
        "9.\tWrite a program to check if a year is a leap year."
      ]
    },
    {
      "cell_type": "code",
      "execution_count": null,
      "metadata": {
        "colab": {
          "base_uri": "https://localhost:8080/"
        },
        "id": "dpAm00ocHg-g",
        "outputId": "60ff0477-3e9f-40ca-9ffa-7037d883ddfa"
      },
      "outputs": [
        {
          "name": "stdout",
          "output_type": "stream",
          "text": [
            "Enter a year: 2024\n",
            "2024 is a leap year.\n"
          ]
        }
      ],
      "source": [
        "def is_leap_year(year):\n",
        "\n",
        "  if (year % 4 == 0 and year % 100 != 0) or (year % 400 == 0):\n",
        "    return True\n",
        "  else:\n",
        "    return False\n",
        "year = int(input(\"Enter a year: \"))\n",
        "\n",
        "if is_leap_year(year):\n",
        "  print(year, \"is a leap year.\")\n",
        "else:\n",
        "  print(year, \"is not a leap year.\")"
      ]
    },
    {
      "cell_type": "markdown",
      "metadata": {
        "id": "GOabdjuVHiUL"
      },
      "source": [
        "10.\tDevelop a simple login system that checks a username and password."
      ]
    },
    {
      "cell_type": "code",
      "execution_count": null,
      "metadata": {
        "colab": {
          "base_uri": "https://localhost:8080/"
        },
        "id": "jtFCX2_3HpRG",
        "outputId": "7ca747b1-8309-4de1-82f1-b9973e80ee3a"
      },
      "outputs": [
        {
          "name": "stdout",
          "output_type": "stream",
          "text": [
            "Enter your username: user123\n",
            "Enter your password: password456\n",
            "Login successful!\n"
          ]
        }
      ],
      "source": [
        "def login():\n",
        "\n",
        "  correct_username = \"user123\"\n",
        "  correct_password = \"password456\"\n",
        "  username = input(\"Enter your username: \")\n",
        "  password = input(\"Enter your password: \")\n",
        "  if username == correct_username and password == correct_password:\n",
        "    print(\"Login successful!\")\n",
        "  else:\n",
        "    print(\"Login failed. Incorrect username or password.\")\n",
        "login()"
      ]
    },
    {
      "cell_type": "markdown",
      "metadata": {
        "id": "xd0d6vNwHqZC"
      },
      "source": [
        "11.\tWrite a Python program that counts the number of vowels in a given string."
      ]
    },
    {
      "cell_type": "code",
      "execution_count": null,
      "metadata": {
        "colab": {
          "base_uri": "https://localhost:8080/"
        },
        "id": "iTdV4caXHvoo",
        "outputId": "a16fd8a6-c091-41e5-91a8-3e0e75b06791"
      },
      "outputs": [
        {
          "name": "stdout",
          "output_type": "stream",
          "text": [
            "Enter a string: mynameisaashijain\n",
            "The number of vowels in the string is: 8\n"
          ]
        }
      ],
      "source": [
        "def count_vowels(string):\n",
        "  vowels = set(\"aeiouAEIOU\")\n",
        "  vowel_count = 0\n",
        "  for char in string:\n",
        "    if char in vowels:\n",
        "      vowel_count += 1\n",
        "  return vowel_count\n",
        "string = input(\"Enter a string: \")\n",
        "num_vowels = count_vowels(string)\n",
        "print(\"The number of vowels in the string is:\", num_vowels)"
      ]
    },
    {
      "cell_type": "markdown",
      "metadata": {
        "id": "WAvArJYIHx-p"
      },
      "source": [
        "12.\tCreate a function that removes all whitespace from a user-inputted string."
      ]
    },
    {
      "cell_type": "code",
      "execution_count": null,
      "metadata": {
        "colab": {
          "base_uri": "https://localhost:8080/"
        },
        "id": "lqUp8GDrH3og",
        "outputId": "e7840d7a-9c39-4229-b481-7742d6b6c613"
      },
      "outputs": [
        {
          "name": "stdout",
          "output_type": "stream",
          "text": [
            "Enter a string: my name is aashi \n",
            "String with whitespace removed: mynameisaashi\n"
          ]
        }
      ],
      "source": [
        "def remove_whitespace(text):\n",
        "  \"\"\"Removes all whitespace from a string.\"\"\"\n",
        "  return text.replace(\" \", \"\").replace(\"\\t\", \"\").replace(\"\\n\", \"\")\n",
        "user_input = input(\"Enter a string: \")\n",
        "result = remove_whitespace(user_input)\n",
        "print(\"String with whitespace removed:\", result)"
      ]
    },
    {
      "cell_type": "markdown",
      "metadata": {
        "id": "faBWypumH4eU"
      },
      "source": [
        "13.\tImplement a program to check if two strings are anagrams of each other."
      ]
    },
    {
      "cell_type": "code",
      "execution_count": null,
      "metadata": {
        "colab": {
          "base_uri": "https://localhost:8080/"
        },
        "id": "DYxiKtSaIAgg",
        "outputId": "97726086-3119-4643-b228-593a9e8ee0b0"
      },
      "outputs": [
        {
          "name": "stdout",
          "output_type": "stream",
          "text": [
            "Enter the first string: aashi jain\n",
            "Enter the second string: aashijain\n",
            "The strings are anagrams.\n"
          ]
        }
      ],
      "source": [
        "def are_anagrams(str1, str2):\n",
        "  str1 = str1.replace(\" \", \"\").lower()\n",
        "  str2 = str2.replace(\" \", \"\").lower()\n",
        "  if len(str1) != len(str2):\n",
        "    return False\n",
        "  return sorted(str1) == sorted(str2)\n",
        "string1 = input(\"Enter the first string: \")\n",
        "string2 = input(\"Enter the second string: \")\n",
        "if are_anagrams(string1, string2):\n",
        "  print(\"The strings are anagrams.\")\n",
        "else:\n",
        "  print(\"The strings are not anagrams.\")"
      ]
    },
    {
      "cell_type": "markdown",
      "metadata": {
        "id": "bjy_CXnQIDzA"
      },
      "source": [
        "14.\tWrite a program to count the frequency of words in a given sentence."
      ]
    },
    {
      "cell_type": "code",
      "execution_count": null,
      "metadata": {
        "colab": {
          "base_uri": "https://localhost:8080/"
        },
        "id": "UTj3h-0yIK6p",
        "outputId": "dda98a37-2175-480e-f2d1-929f3ffdf4d4"
      },
      "outputs": [
        {
          "name": "stdout",
          "output_type": "stream",
          "text": [
            "Enter a sentence: hii this is aashi from section t-tcs\n",
            "hii: 1\n",
            "this: 1\n",
            "is: 1\n",
            "aashi: 1\n",
            "from: 1\n",
            "section: 1\n",
            "t-tcs: 1\n"
          ]
        }
      ],
      "source": [
        "from collections import Counter\n",
        "\n",
        "def word_frequency(sentence):\n",
        "\n",
        "  sentence = sentence.lower().replace(\",\", \"\").replace(\".\", \"\")\n",
        "  words = sentence.split()\n",
        "  word_counts = Counter(words)\n",
        "  for word, count in word_counts.items():\n",
        "    print(f\"{word}: {count}\")\n",
        "sentence = input(\"Enter a sentence: \")\n",
        "word_frequency(sentence)"
      ]
    },
    {
      "cell_type": "markdown",
      "metadata": {
        "id": "5O-KUxxdIMri"
      },
      "source": [
        "15.\tCreate a function that replaces every occurrence of a substring with another substring in a string."
      ]
    },
    {
      "cell_type": "code",
      "execution_count": null,
      "metadata": {
        "colab": {
          "base_uri": "https://localhost:8080/"
        },
        "id": "uUxqfuJRIS69",
        "outputId": "2bcdaf0f-b90e-4fb3-de91-c5eda9e9f879"
      },
      "outputs": [
        {
          "name": "stdout",
          "output_type": "stream",
          "text": [
            "Enter the string: piyush\n",
            "Enter the substring to replace: pooja\n",
            "Enter the new substring: aashi\n",
            "Modified string: piyush\n"
          ]
        }
      ],
      "source": [
        "def replace_substring(text, old_substring, new_substring):\n",
        "  \"\"\"Replaces every occurrence of a substring with another substring in a string.\"\"\"\n",
        "  return text.replace(old_substring, new_substring)\n",
        "text = input(\"Enter the string: \")\n",
        "old_substring = input(\"Enter the substring to replace: \")\n",
        "new_substring = input(\"Enter the new substring: \")\n",
        "result = replace_substring(text, old_substring, new_substring)\n",
        "print(\"Modified string:\", result)"
      ]
    },
    {
      "cell_type": "markdown",
      "metadata": {
        "id": "PbKvzQLyIX7y"
      },
      "source": [
        "16.\tWrite a program that generates the first 10 Fibonacci numbers using iteration."
      ]
    },
    {
      "cell_type": "code",
      "execution_count": null,
      "metadata": {
        "colab": {
          "base_uri": "https://localhost:8080/"
        },
        "id": "Yi_8NXLBIiwb",
        "outputId": "6745fdc9-6b41-46d9-f6b1-5c4b7ffe9c0c"
      },
      "outputs": [
        {
          "name": "stdout",
          "output_type": "stream",
          "text": [
            "First 10 Fibonacci numbers: [0, 1, 1, 2, 3, 5, 8, 13, 21, 34]\n"
          ]
        }
      ],
      "source": [
        "def generate_fibonacci(n):\n",
        "\n",
        "  fibonacci_numbers = []\n",
        "  a, b = 0, 1\n",
        "\n",
        "  for _ in range(n):\n",
        "    fibonacci_numbers.append(a)\n",
        "    a, b = b, a + b\n",
        "\n",
        "  return fibonacci_numbers\n",
        "\n",
        "first_10_fibonacci = generate_fibonacci(10)\n",
        "print(\"First 10 Fibonacci numbers:\", first_10_fibonacci)"
      ]
    },
    {
      "cell_type": "markdown",
      "metadata": {
        "id": "9wGMxfWtIjvV"
      },
      "source": [
        "17.\tCreate a program that sums all even numbers from 1 to 100."
      ]
    },
    {
      "cell_type": "code",
      "execution_count": null,
      "metadata": {
        "colab": {
          "base_uri": "https://localhost:8080/"
        },
        "id": "Je6B9FXyIrU0",
        "outputId": "3d528636-abbe-4a40-eae0-0567f56a985d"
      },
      "outputs": [
        {
          "name": "stdout",
          "output_type": "stream",
          "text": [
            "The sum of even numbers from 1 to 100 is: 2550\n"
          ]
        }
      ],
      "source": [
        "def sum_even_numbers(start, end):\n",
        "  total_sum = 0\n",
        "  for number in range(start, end + 1):\n",
        "    if number % 2 == 0:\n",
        "      total_sum += number\n",
        "  return total_sum\n",
        "\n",
        "start_range = 1\n",
        "end_range = 100\n",
        "even_sum = sum_even_numbers(start_range, end_range)\n",
        "print(f\"The sum of even numbers from {start_range} to {end_range} is: {even_sum}\")"
      ]
    },
    {
      "cell_type": "markdown",
      "metadata": {
        "id": "TtR9DxjYIu2I"
      },
      "source": [
        "18.\tWrite a Python script that prints the multiplication table of a user-defined number."
      ]
    },
    {
      "cell_type": "code",
      "execution_count": null,
      "metadata": {
        "colab": {
          "base_uri": "https://localhost:8080/"
        },
        "id": "rog1a0sEI4zI",
        "outputId": "8a875483-8c4a-4240-a621-be7561f3b50b"
      },
      "outputs": [
        {
          "name": "stdout",
          "output_type": "stream",
          "text": [
            "Enter the number for the multiplication table: 42\n",
            "Enter the limit (up to which table should be printed): 10\n",
            "42 x 1 = 42\n",
            "42 x 2 = 84\n",
            "42 x 3 = 126\n",
            "42 x 4 = 168\n",
            "42 x 5 = 210\n",
            "42 x 6 = 252\n",
            "42 x 7 = 294\n",
            "42 x 8 = 336\n",
            "42 x 9 = 378\n",
            "42 x 10 = 420\n"
          ]
        }
      ],
      "source": [
        "def print_multiplication_table(number, limit):\n",
        "  for i in range(1, limit + 1):\n",
        "    product = number * i\n",
        "    print(f\"{number} x {i} = {product}\")\n",
        "number = int(input(\"Enter the number for the multiplication table: \"))\n",
        "limit = int(input(\"Enter the limit (up to which table should be printed): \"))\n",
        "\n",
        "print_multiplication_table(number, limit)"
      ]
    },
    {
      "cell_type": "markdown",
      "metadata": {
        "id": "hZVQihGcI65E"
      },
      "source": [
        "19.\tDevelop a program that calculates the factorial of a number using a loop."
      ]
    },
    {
      "cell_type": "code",
      "execution_count": null,
      "metadata": {
        "colab": {
          "base_uri": "https://localhost:8080/"
        },
        "id": "wFCh2AohJTxO",
        "outputId": "b3ca931b-f9e9-4a9d-981b-b4bdfa709854"
      },
      "outputs": [
        {
          "name": "stdout",
          "output_type": "stream",
          "text": [
            "Enter a non-negative integer: 5\n",
            "The factorial of 5 is: 120\n"
          ]
        }
      ],
      "source": [
        "def factorial_iterative(number):\n",
        "\n",
        "  if number < 0:\n",
        "    return \"Factorial is not defined for negative numbers.\"\n",
        "  elif number == 0:\n",
        "    return 1\n",
        "  else:\n",
        "    factorial = 1\n",
        "    for i in range(1, number + 1):\n",
        "      factorial *= i\n",
        "    return factorial\n",
        "\n",
        "number = int(input(\"Enter a non-negative integer: \"))\n",
        "\n",
        "result = factorial_iterative(number)\n",
        "print(f\"The factorial of {number} is: {result}\")"
      ]
    },
    {
      "cell_type": "markdown",
      "metadata": {
        "id": "XnBhCJ9XJVT-"
      },
      "source": [
        "20.\tCreate a function that lists all prime numbers up to a specified limit."
      ]
    },
    {
      "cell_type": "code",
      "execution_count": null,
      "metadata": {
        "colab": {
          "base_uri": "https://localhost:8080/"
        },
        "id": "-xsHi16DsSw2",
        "outputId": "7cc94e06-e44c-4bde-9040-ac3ce1e1365d"
      },
      "outputs": [
        {
          "name": "stdout",
          "output_type": "stream",
          "text": [
            "Enter the limit: 65\n",
            "Prime numbers up to 65 are: [2, 3, 5, 7, 11, 13, 17, 19, 23, 29, 31, 37, 41, 43, 47, 53, 59, 61]\n"
          ]
        }
      ],
      "source": [
        "def list_primes(limit):\n",
        "\n",
        "  primes = []\n",
        "  for number in range(2, limit + 1):\n",
        "    is_prime = True\n",
        "    for i in range(2, int(number**0.5) + 1):\n",
        "      if number % i == 0:\n",
        "        is_prime = False\n",
        "        break\n",
        "    if is_prime:\n",
        "      primes.append(number)\n",
        "  return primes\n",
        "limit = int(input(\"Enter the limit: \"))\n",
        "\n",
        "prime_numbers = list_primes(limit)\n",
        "print(\"Prime numbers up to\", limit, \"are:\", prime_numbers)"
      ]
    },
    {
      "cell_type": "markdown",
      "metadata": {
        "id": "UwrJ1uAIsWMb"
      },
      "source": [
        "21.\tWrite a function that calculates the greatest common divisor (GCD) of two numbers."
      ]
    },
    {
      "cell_type": "code",
      "execution_count": null,
      "metadata": {
        "colab": {
          "base_uri": "https://localhost:8080/"
        },
        "id": "i7inPNlqscPK",
        "outputId": "8104cc5b-6c1d-436d-d09b-a6124230db85"
      },
      "outputs": [
        {
          "name": "stdout",
          "output_type": "stream",
          "text": [
            "Enter the first number: 569\n",
            "Enter the second number: 485\n",
            "The greatest common divisor of 569 and 485 is: 1\n"
          ]
        }
      ],
      "source": [
        "def gcd(a, b):\n",
        "  while b:\n",
        "    a, b = b, a % b\n",
        "  return a\n",
        "num1 = int(input(\"Enter the first number: \"))\n",
        "num2 = int(input(\"Enter the second number: \"))\n",
        "\n",
        "result = gcd(num1, num2)\n",
        "print(f\"The greatest common divisor of {num1} and {num2} is: {result}\")"
      ]
    },
    {
      "cell_type": "markdown",
      "metadata": {
        "id": "tFe5ffdFsiTi"
      },
      "source": [
        "22.\tCreate a Python function that takes a list of numbers and returns the largest number."
      ]
    },
    {
      "cell_type": "code",
      "execution_count": null,
      "metadata": {
        "id": "1YeGTAlQspsX"
      },
      "outputs": [],
      "source": [
        "def find_largest_number(numbers):\n",
        "  \"\"\"Finds the largest number in a list.\"\"\"\n",
        "  if not numbers:\n",
        "    return \"The list is empty.\"\n",
        "  else:\n",
        "    largest_number = numbers[0]\n",
        "    for number in numbers:\n",
        "      if number > largest_number:\n",
        "        largest_number = number\n",
        "    return largest_number\n",
        "\n",
        "numbers = []\n",
        "n = int(input(\"Enter the number of elements in the list: \"))\n",
        "for i in range(n):\n",
        "    element = int(input(f\"Enter element {i+1}: \"))\n",
        "    numbers.append(element)\n",
        "largest = find_largest_number(numbers)\n",
        "print(\"The largest number in the list is:\", largest)"
      ]
    },
    {
      "cell_type": "markdown",
      "metadata": {
        "id": "GxaEiKFBxAcZ"
      },
      "source": [
        "23.\tImplement a function for finding the factorial of a number using recursion."
      ]
    },
    {
      "cell_type": "code",
      "execution_count": null,
      "metadata": {
        "colab": {
          "base_uri": "https://localhost:8080/"
        },
        "id": "KVXHVSpaxKfe",
        "outputId": "d41a62f1-27ce-4d48-a860-05c274b26244"
      },
      "outputs": [
        {
          "name": "stdout",
          "output_type": "stream",
          "text": [
            "Enter a non-negative integer: 12\n",
            "The factorial of 12 is: 479001600\n"
          ]
        }
      ],
      "source": [
        "def factorial_recursive(n):\n",
        "  if n == 0:\n",
        "    return 1\n",
        "  else:\n",
        "    return n * factorial_recursive(n - 1)\n",
        "\n",
        "number = int(input(\"Enter a non-negative integer: \"))\n",
        "\n",
        "result = factorial_recursive(number)\n",
        "print(f\"The factorial of {number} is: {result}\")"
      ]
    },
    {
      "cell_type": "markdown",
      "metadata": {
        "id": "hcDsGfmQxMs6"
      },
      "source": [
        "24.\tWrite a program that utilizes global variables and demonstrates their use in functions."
      ]
    },
    {
      "cell_type": "code",
      "execution_count": null,
      "metadata": {
        "colab": {
          "base_uri": "https://localhost:8080/"
        },
        "id": "H0NvkWBtxT64",
        "outputId": "ae15cd92-81d8-41cf-88ed-187877218c70"
      },
      "outputs": [
        {
          "name": "stdout",
          "output_type": "stream",
          "text": [
            "Counter value: 0\n",
            "Counter value: 1\n",
            "Counter value: 2\n"
          ]
        }
      ],
      "source": [
        "global_counter = 0\n",
        "\n",
        "def increment_counter():\n",
        "  global global_counter\n",
        "  global_counter += 1\n",
        "\n",
        "def print_counter():\n",
        "  print(\"Counter value:\", global_counter)\n",
        "print_counter()\n",
        "increment_counter()\n",
        "print_counter()\n",
        "increment_counter()\n",
        "print_counter()"
      ]
    },
    {
      "cell_type": "markdown",
      "metadata": {
        "id": "lMJVId-1xVDC"
      },
      "source": [
        "25.\tDevelop a module that contains utility functions for string manipulations."
      ]
    },
    {
      "cell_type": "code",
      "execution_count": null,
      "metadata": {
        "id": "iz-yzNVpMGc9"
      },
      "outputs": [],
      "source": [
        "'''\n",
        "string_manipulation.py\n",
        "'''\n",
        "def reverse_string(s):\n",
        "    return s[::-1]\n",
        "\n",
        "def is_palindrome(s):\n",
        "    return s == reverse_string(s)\n",
        "\n",
        "def count_vowels(s):\n",
        "    vowels = \"aeiouAEIOU\"\n",
        "    return sum(1 for char in s if char in vowels)\n",
        "\n",
        "def to_title_case(s):\n",
        "  return s.title()\n",
        "\n",
        "def remove_whitespace(s):\n",
        "    return ''.join(s.split())\n",
        "\n",
        "def replace_substring(s, old, new):\n",
        "    return s.replace(old, new)\n",
        "\n",
        "def capitalize_first(s):\n",
        "    return s.capitalize()\n",
        "\n",
        "def word_count(s):\n",
        "    return len(s.split())\n",
        "\n",
        "def is_anagram(s1, s2):\n",
        "    return sorted(s1) == sorted(s2)"
      ]
    },
    {
      "cell_type": "markdown",
      "metadata": {
        "id": "QKabFgCsyUaY"
      },
      "source": [
        "26.\tWrite a simple testing script that verifies the functionality of your calculator from a previous assignment."
      ]
    },
    {
      "cell_type": "code",
      "execution_count": null,
      "metadata": {
        "colab": {
          "base_uri": "https://localhost:8080/"
        },
        "id": "jF1Xr1LUKXnA",
        "outputId": "5dd599c8-a2aa-44ca-dd40-e587ad6d81c5"
      },
      "outputs": [
        {
          "name": "stderr",
          "output_type": "stream",
          "text": [
            "..."
          ]
        },
        {
          "name": "stdout",
          "output_type": "stream",
          "text": [
            "Enter the first number: 5\n",
            "Enter the operator (+, -, *, /): +\n",
            "Enter the second number: 5\n"
          ]
        },
        {
          "name": "stderr",
          "output_type": "stream",
          "text": [
            "F"
          ]
        },
        {
          "name": "stdout",
          "output_type": "stream",
          "text": [
            "The result is: 10.0\n",
            "Enter the first number: 6\n",
            "Enter the operator (+, -, *, /): -\n",
            "Enter the second number: 2\n"
          ]
        },
        {
          "name": "stderr",
          "output_type": "stream",
          "text": [
            "F"
          ]
        },
        {
          "name": "stdout",
          "output_type": "stream",
          "text": [
            "The result is: 4.0\n",
            "Enter the first number: 8\n",
            "Enter the operator (+, -, *, /): *\n",
            "Enter the second number: 5\n"
          ]
        },
        {
          "name": "stderr",
          "output_type": "stream",
          "text": [
            "F"
          ]
        },
        {
          "name": "stdout",
          "output_type": "stream",
          "text": [
            "The result is: 40.0\n",
            "Enter the first number: 9\n",
            "Enter the operator (+, -, *, /): /\n",
            "Enter the second number: 3\n"
          ]
        },
        {
          "name": "stderr",
          "output_type": "stream",
          "text": [
            "F"
          ]
        },
        {
          "name": "stdout",
          "output_type": "stream",
          "text": [
            "The result is: 3.0\n",
            "Enter the first number: 5\n",
            "Enter the operator (+, -, *, /): *-\n",
            "Enter the second number: 4\n"
          ]
        },
        {
          "name": "stderr",
          "output_type": "stream",
          "text": [
            "F\n",
            "======================================================================\n",
            "FAIL: test_addition (__main__.TestCalculator)\n",
            "----------------------------------------------------------------------\n",
            "Traceback (most recent call last):\n",
            "  File \"<ipython-input-55-c096053b4315>\", line 38, in test_addition\n",
            "    self.assertEqual(calculator(), 7)  # Expected: 3 + 4 = 7\n",
            "AssertionError: 10.0 != 7\n",
            "\n",
            "======================================================================\n",
            "FAIL: test_division (__main__.TestCalculator)\n",
            "----------------------------------------------------------------------\n",
            "Traceback (most recent call last):\n",
            "  File \"<ipython-input-55-c096053b4315>\", line 47, in test_division\n",
            "    self.assertEqual(calculator(), 0.75)  # Expected: 3 / 4 = 0.75\n",
            "AssertionError: 4.0 != 0.75\n",
            "\n",
            "======================================================================\n",
            "FAIL: test_division_by_zero (__main__.TestCalculator)\n",
            "----------------------------------------------------------------------\n",
            "Traceback (most recent call last):\n",
            "  File \"<ipython-input-55-c096053b4315>\", line 50, in test_division_by_zero\n",
            "    self.assertEqual(calculator(), \"Error: Division by zero is not allowed.\")\n",
            "AssertionError: 40.0 != 'Error: Division by zero is not allowed.'\n",
            "\n",
            "======================================================================\n",
            "FAIL: test_multiplication (__main__.TestCalculator)\n",
            "----------------------------------------------------------------------\n",
            "Traceback (most recent call last):\n",
            "  File \"<ipython-input-55-c096053b4315>\", line 44, in test_multiplication\n",
            "    self.assertEqual(calculator(), 12)  # Expected: 3 * 4 = 12\n",
            "AssertionError: 3.0 != 12\n",
            "\n",
            "======================================================================\n",
            "FAIL: test_subtraction (__main__.TestCalculator)\n",
            "----------------------------------------------------------------------\n",
            "Traceback (most recent call last):\n",
            "  File \"<ipython-input-55-c096053b4315>\", line 41, in test_subtraction\n",
            "    self.assertEqual(calculator(), -1)  # Expected: 3 - 4 = -1\n",
            "AssertionError: 'Error: Invalid operator.' != -1\n",
            "\n",
            "----------------------------------------------------------------------\n",
            "Ran 8 tests in 204.653s\n",
            "\n",
            "FAILED (failures=5)\n"
          ]
        }
      ],
      "source": [
        "import unittest\n",
        "def calculator():\n",
        "\n",
        "    num1 = float(input(\"Enter the first number: \"))\n",
        "    operator = input(\"Enter the operator (+, -, *, /): \")\n",
        "    num2 = float(input(\"Enter the second number: \"))\n",
        "\n",
        "    if operator == \"+\":\n",
        "        result = num1 + num2\n",
        "    elif operator == \"-\":\n",
        "        result = num1 - num2\n",
        "    elif operator == \"*\":\n",
        "        result = num1 * num2\n",
        "    elif operator == \"/\":\n",
        "        if num2 == 0:\n",
        "            return \"Error: Division by zero is not allowed.\"\n",
        "        result = num1 / num2\n",
        "    else:\n",
        "        return \"Error: Invalid operator.\"\n",
        "    print(\"The result is:\", result)\n",
        "    return result\n",
        "class TestCalculator(unittest.TestCase):\n",
        "    def test_addition(self):\n",
        "        self.assertEqual(calculator(), 7)\n",
        "    def test_subtraction(self):\n",
        "        self.assertEqual(calculator(), -1)\n",
        "    def test_multiplication(self):\n",
        "        self.assertEqual(calculator(), 12)\n",
        "    def test_division(self):\n",
        "        self.assertEqual(calculator(), 0.75)\n",
        "    def test_division_by_zero(self):\n",
        "        self.assertEqual(calculator(), \"Error: Division by zero is not allowed.\")\n",
        "\n",
        "if __name__ == '__main__':\n",
        "    unittest.main(argv=['first-arg-is-ignored'], exit=False)"
      ]
    },
    {
      "cell_type": "markdown",
      "metadata": {
        "id": "QaIRqrn3zA5_"
      },
      "source": [
        "27.\tCreate a program that includes debugging statements to show the flow of execution."
      ]
    },
    {
      "cell_type": "code",
      "execution_count": null,
      "metadata": {
        "colab": {
          "base_uri": "https://localhost:8080/"
        },
        "id": "I7LHFEVizKU1",
        "outputId": "47e88fbf-8903-4550-a08d-72e161e5d45c"
      },
      "outputs": [
        {
          "name": "stdout",
          "output_type": "stream",
          "text": [
            "Starting program execution\n",
            "Values: x = 10, y = 5\n",
            "Entering calculate_sum function\n",
            "Calculated sum: 15\n",
            "Sum result: 15\n",
            "Ending program execution\n"
          ]
        }
      ],
      "source": [
        "def calculate_sum(a, b):\n",
        "    \"\"\"Calculates the sum of two numbers.\"\"\"\n",
        "    print(\"Entering calculate_sum function\")\n",
        "    result = a + b\n",
        "    print(f\"Calculated sum: {result}\")\n",
        "    return result\n",
        "\n",
        "def main():\n",
        "    \"\"\"Main function.\"\"\"\n",
        "    print(\"Starting program execution\")\n",
        "    x = 10\n",
        "    y = 5\n",
        "    print(f\"Values: x = {x}, y = {y}\")\n",
        "    sum_result = calculate_sum(x, y)\n",
        "    print(f\"Sum result: {sum_result}\")\n",
        "    print(\"Ending program execution\")\n",
        "\n",
        "if __name__ == \"__main__\":\n",
        "    main()"
      ]
    },
    {
      "cell_type": "markdown",
      "metadata": {
        "id": "HLb5-f9a0XTA"
      },
      "source": [
        "28.\tImplement a function and write unit tests to confirm its correctness using assertions."
      ]
    },
    {
      "cell_type": "code",
      "execution_count": null,
      "metadata": {
        "colab": {
          "base_uri": "https://localhost:8080/"
        },
        "id": "BVvVw5HaLt4S",
        "outputId": "1333193e-7f20-43f2-b61f-afd294dd5d6d"
      },
      "outputs": [
        {
          "name": "stdout",
          "output_type": "stream",
          "text": [
            "All tests passed successfully.\n"
          ]
        }
      ],
      "source": [
        "def is_palindrome(s):\n",
        "    str = s.lower()\n",
        "    return str == str[::-1]\n",
        "\n",
        "def test_is_palindrome():\n",
        "\n",
        "    assert is_palindrome(\"Racecar\") == True\n",
        "    assert is_palindrome(\"Hello\") == False\n",
        "    assert is_palindrome(\"Madam\") == True\n",
        "\n",
        "    print(\"All tests passed successfully.\")\n",
        "\n",
        "test_is_palindrome()"
      ]
    },
    {
      "cell_type": "markdown",
      "metadata": {
        "id": "XQrK8whq8Y7O"
      },
      "source": [
        "29.\tWrite a program that intentionally has a bug, and then demonstrate how to fix it."
      ]
    },
    {
      "cell_type": "code",
      "execution_count": null,
      "metadata": {
        "colab": {
          "base_uri": "https://localhost:8080/"
        },
        "id": "ZKystUvu9yoM",
        "outputId": "8f2317b0-666f-4995-ac57-043f5c02e083"
      },
      "outputs": [
        {
          "name": "stdout",
          "output_type": "stream",
          "text": [
            "Average: 30.0\n"
          ]
        }
      ],
      "source": [
        "def calculate_average(numbers):\n",
        "  total = sum(numbers)\n",
        "  average = total / len(numbers)\n",
        "  return average\n",
        "\n",
        "numbers = [10, 20, 30, 40, 50]\n",
        "average = calculate_average(numbers)\n",
        "print(\"Average:\", average)"
      ]
    },
    {
      "cell_type": "markdown",
      "metadata": {
        "id": "DCzktClzH9z_"
      },
      "source": [
        "30.\tCreate a logging system that tracks function calls and their parameters."
      ]
    },
    {
      "cell_type": "code",
      "execution_count": null,
      "metadata": {
        "colab": {
          "base_uri": "https://localhost:8080/"
        },
        "id": "G3x8d5k7IOs2",
        "outputId": "2d88a7ec-cb02-447b-ed2c-02131694fe75"
      },
      "outputs": [
        {
          "name": "stdout",
          "output_type": "stream",
          "text": [
            "Result: 10\n"
          ]
        }
      ],
      "source": [
        "import logging\n",
        "import functools\n",
        "logging.basicConfig(filename='function_calls.log', level=logging.INFO,\n",
        "                    format='%(asctime)s - %(name)s - %(levelname)s - %(message)s')\n",
        "\n",
        "def log_function_call(func):\n",
        "    @functools.wraps(func)\n",
        "    def wrapper(*args, **kwargs):\n",
        "        logging.info(f\"Calling function: {func.__name__} with args: {args}, kwargs: {kwargs}\")\n",
        "        result = func(*args, **kwargs)\n",
        "        logging.info(f\"Function {func.__name__} returned: {result}\")\n",
        "        return result\n",
        "    return wrapper\n",
        "@log_function_call\n",
        "def my_function(a, b, c=10):\n",
        "    return a + b + c\n",
        "result = my_function(2, 3, c=5)\n",
        "print(f\"Result: {result}\")"
      ]
    },
    {
      "cell_type": "markdown",
      "metadata": {
        "id": "4w9-UTbQIRFb"
      },
      "source": [
        "31.\tWrite a Python script to demonstrate the usage of tuples for storing coordinates."
      ]
    },
    {
      "cell_type": "code",
      "execution_count": null,
      "metadata": {
        "colab": {
          "base_uri": "https://localhost:8080/"
        },
        "id": "Vza1xYUWIZDY",
        "outputId": "583afbb5-6003-49f7-e7ae-26db7042c515"
      },
      "outputs": [
        {
          "name": "stdout",
          "output_type": "stream",
          "text": [
            "Point 1: (3, 4)\n",
            "Point 2: (6, 8)\n",
            "x-coordinate of Point 1: 3\n",
            "y-coordinate of Point 1: 4\n",
            "Distance between Point 1 and Point 2: 5.0\n"
          ]
        }
      ],
      "source": [
        "point1 = (3, 4)\n",
        "point2 = (6, 8)\n",
        "x1, y1 = point1\n",
        "x2, y2 = point2\n",
        "print(\"Point 1:\", point1)\n",
        "print(\"Point 2:\", point2)\n",
        "print(\"x-coordinate of Point 1:\", x1)\n",
        "print(\"y-coordinate of Point 1:\", y1)\n",
        "distance = ((x2 - x1)**2 + (y2 - y1)**2)**0.5\n",
        "print(\"Distance between Point 1 and Point 2:\", distance)"
      ]
    },
    {
      "cell_type": "markdown",
      "metadata": {
        "id": "bIKsX7gpIaDB"
      },
      "source": [
        "32.\tCreate a program that uses lists and demonstrates mutability by modifying the list items."
      ]
    },
    {
      "cell_type": "code",
      "execution_count": null,
      "metadata": {
        "colab": {
          "base_uri": "https://localhost:8080/"
        },
        "id": "knPY-59hIhNW",
        "outputId": "2eda1d25-5d79-4df8-9e5e-9cffb289e64c"
      },
      "outputs": [
        {
          "name": "stdout",
          "output_type": "stream",
          "text": [
            "Original list: [1, 2, 3, 4, 5]\n",
            "Modified list: [10, 2, 30, 4, 5, 6]\n"
          ]
        }
      ],
      "source": [
        "my_list = [1, 2, 3, 4, 5]\n",
        "print(\"Original list:\", my_list)\n",
        "my_list[0] = 10\n",
        "my_list[2] = 30\n",
        "my_list.append(6)\n",
        "print(\"Modified list:\", my_list)"
      ]
    },
    {
      "cell_type": "markdown",
      "metadata": {
        "id": "yHUMdrLVIjb5"
      },
      "source": [
        "33.\tImplement a higher-order function that takes another function as an argument and applies it to a list."
      ]
    },
    {
      "cell_type": "code",
      "execution_count": null,
      "metadata": {
        "colab": {
          "base_uri": "https://localhost:8080/"
        },
        "id": "BPvolxckIr2L",
        "outputId": "07d2f90d-561a-4bd7-8436-d5cc3d5ebdd1"
      },
      "outputs": [
        {
          "name": "stdout",
          "output_type": "stream",
          "text": [
            "Squared numbers: [1, 4, 9, 16, 25]\n"
          ]
        }
      ],
      "source": [
        "def apply_function_to_list(func, my_list):\n",
        "    return [func(item) for item in my_list]\n",
        "\n",
        "def square(x):\n",
        "    return x * x\n",
        "\n",
        "numbers = [1, 2, 3, 4, 5]\n",
        "squared_numbers = apply_function_to_list(square, numbers)\n",
        "print(f\"Squared numbers: {squared_numbers}\")"
      ]
    },
    {
      "cell_type": "markdown",
      "metadata": {
        "id": "BKQtrEpDItxC"
      },
      "source": [
        "34.\tWrite a program to simulate a simple inventory system using dictionaries."
      ]
    },
    {
      "cell_type": "code",
      "execution_count": null,
      "metadata": {
        "colab": {
          "base_uri": "https://localhost:8080/"
        },
        "id": "uWyfBLtrI550",
        "outputId": "b6922633-c416-4c30-e59c-5042c4f3d2be"
      },
      "outputs": [
        {
          "name": "stdout",
          "output_type": "stream",
          "text": [
            "Added 10 apple(s) to inventory.\n",
            "Added 5 banana(s) to inventory.\n",
            "Added 12 orange(s) to inventory.\n",
            "Removed 3 banana(s) from inventory.\n",
            "Not enough apple(s) in inventory to remove.\n",
            "\n",
            "Current Inventory:\n",
            "apple: 10\n",
            "banana: 2\n",
            "orange: 12\n"
          ]
        }
      ],
      "source": [
        "def create_inventory():\n",
        "    return {}\n",
        "\n",
        "def add_item(inventory, item, quantity):\n",
        "    inventory[item] = inventory.get(item, 0) + quantity\n",
        "    print(f\"Added {quantity} {item}(s) to inventory.\")\n",
        "\n",
        "def remove_item(inventory, item, quantity):\n",
        "    if item in inventory:\n",
        "        if inventory[item] >= quantity:\n",
        "            inventory[item] -= quantity\n",
        "            print(f\"Removed {quantity} {item}(s) from inventory.\")\n",
        "        else:\n",
        "            print(f\"Not enough {item}(s) in inventory to remove.\")\n",
        "    else:\n",
        "        print(f\"{item} not found in inventory.\")\n",
        "\n",
        "def display_inventory(inventory):\n",
        "    print(\"\\nCurrent Inventory:\")\n",
        "    for item, quantity in inventory.items():\n",
        "        print(f\"{item}: {quantity}\")\n",
        "\n",
        "inventory = create_inventory()\n",
        "\n",
        "add_item(inventory, \"apple\", 10)\n",
        "add_item(inventory, \"banana\", 5)\n",
        "add_item(inventory, \"orange\", 12)\n",
        "\n",
        "remove_item(inventory, \"banana\", 3)\n",
        "remove_item(inventory, \"apple\", 15)\n",
        "display_inventory(inventory)"
      ]
    },
    {
      "cell_type": "markdown",
      "metadata": {
        "id": "5AAHC2GTI-wH"
      },
      "source": [
        "35.\tCreate a function that sorts a list of dictionaries by a specified key."
      ]
    },
    {
      "cell_type": "code",
      "execution_count": null,
      "metadata": {
        "colab": {
          "base_uri": "https://localhost:8080/"
        },
        "id": "HP3EAruqJHvG",
        "outputId": "ba1cbd31-1563-4b69-975e-5df53c83b841"
      },
      "outputs": [
        {
          "name": "stdout",
          "output_type": "stream",
          "text": [
            "Sorted by name: [{'name': 'Aashi', 'age': 20}, {'name': 'piyush', 'age': 19}, {'name': 'pooja', 'age': 19}]\n",
            "Sorted by age: [{'name': 'piyush', 'age': 19}, {'name': 'pooja', 'age': 19}, {'name': 'Aashi', 'age': 20}]\n"
          ]
        }
      ],
      "source": [
        "def sort_dictionaries(list_of_dicts, key):\n",
        "\n",
        "    return sorted(list_of_dicts, key=lambda item: item[key])\n",
        "\n",
        "data = [\n",
        "    {'name': 'Aashi', 'age': 20},\n",
        "    {'name': 'piyush', 'age': 19},\n",
        "    {'name': 'pooja', 'age': 19}\n",
        "]\n",
        "\n",
        "sorted_data_by_name = sort_dictionaries(data, 'name')\n",
        "sorted_data_by_age = sort_dictionaries(data, 'age')\n",
        "\n",
        "print(f\"Sorted by name: {sorted_data_by_name}\")\n",
        "print(f\"Sorted by age: {sorted_data_by_age}\")"
      ]
    },
    {
      "cell_type": "markdown",
      "metadata": {
        "id": "NtVPLrF6JMmH"
      },
      "source": [
        "36.\tWrite a program that reads a file and handles exceptions if the file does not exist."
      ]
    },
    {
      "cell_type": "code",
      "execution_count": null,
      "metadata": {
        "colab": {
          "base_uri": "https://localhost:8080/"
        },
        "id": "e6c29UGsJVln",
        "outputId": "aa1d4dc4-ea8f-4af2-b8df-bbb50989b002"
      },
      "outputs": [
        {
          "name": "stdout",
          "output_type": "stream",
          "text": [
            "Error: File not found.\n"
          ]
        }
      ],
      "source": [
        "def read_file(filename):\n",
        "  try:\n",
        "    with open(filename, 'r') as file:\n",
        "      contents = file.read()\n",
        "    return contents\n",
        "  except FileNotFoundError:\n",
        "    return \"File not found.\"\n",
        "\n",
        "filename = \"my_file.txt\"\n",
        "file_contents = read_file(filename)\n",
        "\n",
        "if file_contents == \"File not found.\":\n",
        "  print(f\"Error: {file_contents}\")\n",
        "else:\n",
        "  print(\"File contents:\")\n",
        "  print(file_contents)"
      ]
    },
    {
      "cell_type": "markdown",
      "metadata": {
        "id": "FwF02T5rJYAY"
      },
      "source": [
        "37.\tCreate a function that raises an exception if the input is not a positive number."
      ]
    },
    {
      "cell_type": "code",
      "execution_count": null,
      "metadata": {
        "colab": {
          "base_uri": "https://localhost:8080/"
        },
        "id": "_vOgXOq_kO6V",
        "outputId": "c573bc84-6c0f-46a9-8b8f-a7e51c86f6e3"
      },
      "outputs": [
        {
          "name": "stdout",
          "output_type": "stream",
          "text": [
            "Enter a positive number: -6\n",
            "Input must be a positive number.\n"
          ]
        }
      ],
      "source": [
        "def ensure_positive_number(number):\n",
        "  if number <= 0:\n",
        "    raise ValueError(\"Input must be a positive number.\")\n",
        "\n",
        "try:\n",
        "  user_input = int(input(\"Enter a positive number: \"))\n",
        "  ensure_positive_number(user_input)\n",
        "  print(\"Input is valid:\", user_input)\n",
        "except ValueError as e:\n",
        "  print(e)"
      ]
    },
    {
      "cell_type": "markdown",
      "metadata": {
        "id": "2RKIUY9KJjvv"
      },
      "source": [
        "38.\tImplement a program that uses assertions to check the validity of user input."
      ]
    },
    {
      "cell_type": "code",
      "execution_count": null,
      "metadata": {
        "colab": {
          "base_uri": "https://localhost:8080/"
        },
        "id": "gmTm01u6kicu",
        "outputId": "b11cdedc-b4b9-4a79-cc45-697a90f4f167"
      },
      "outputs": [
        {
          "name": "stdout",
          "output_type": "stream",
          "text": [
            "Enter your age: 52\n",
            "Valid age: 52\n"
          ]
        }
      ],
      "source": [
        "def validate_input(age):\n",
        "  assert isinstance(age, int), \"Age must be an integer.\"\n",
        "  assert age > 0, \"Age must be positive.\"\n",
        "\n",
        "try:\n",
        "  user_age = int(input(\"Enter your age: \"))\n",
        "  validate_input(user_age)\n",
        "  print(\"Valid age:\", user_age)\n",
        "except AssertionError as e:\n",
        "  print(\"Invalid input:\", e)\n",
        "except ValueError:\n",
        "  print(\"Invalid input: Please enter a valid integer.\")"
      ]
    },
    {
      "cell_type": "markdown",
      "metadata": {
        "id": "zO9sQYAVfmHj"
      },
      "source": [
        "39.\tWrite a function to demonstrate the use of try-except blocks when dividing numbers."
      ]
    },
    {
      "cell_type": "code",
      "execution_count": null,
      "metadata": {
        "colab": {
          "base_uri": "https://localhost:8080/"
        },
        "id": "2UxsDAJqfyLI",
        "outputId": "a207afeb-baa1-4ffd-85df-af68b92dd6cb"
      },
      "outputs": [
        {
          "name": "stdout",
          "output_type": "stream",
          "text": [
            "Error: Cannot divide by zero.\n"
          ]
        }
      ],
      "source": [
        "def safe_divide(numerator, denominator):\n",
        "    try:\n",
        "        result = numerator / denominator\n",
        "        return result\n",
        "    except ZeroDivisionError:\n",
        "        print(\"Error: Cannot divide by zero.\")\n",
        "        return None\n",
        "num1 = 10\n",
        "num2 = 0\n",
        "\n",
        "result = safe_divide(num1, num2)\n",
        "\n",
        "if result is not None:\n",
        "    print(f\"Result: {result}\")"
      ]
    },
    {
      "cell_type": "markdown",
      "metadata": {
        "id": "93D67SIzf3RJ"
      },
      "source": [
        "40.\tCreate a program that captures and logs exceptions thrown in a mathematical computation."
      ]
    },
    {
      "cell_type": "code",
      "execution_count": null,
      "metadata": {
        "colab": {
          "base_uri": "https://localhost:8080/"
        },
        "id": "nlXStlJNgS3w",
        "outputId": "2207e7e9-63ec-484f-f21f-9d6a1e44a6ee"
      },
      "outputs": [
        {
          "name": "stderr",
          "output_type": "stream",
          "text": [
            "ERROR:root:Error during computation: division by zero\n",
            "Traceback (most recent call last):\n",
            "  File \"<ipython-input-10-71e38e2af1f7>\", line 9, in perform_computation\n",
            "    result = a / b\n",
            "ZeroDivisionError: division by zero\n"
          ]
        },
        {
          "name": "stdout",
          "output_type": "stream",
          "text": [
            "An error occurred. Check the math_errors.log file for details.\n"
          ]
        }
      ],
      "source": [
        "import logging\n",
        "\n",
        "logging.basicConfig(filename='math_errors.log', level=logging.ERROR,\n",
        "                    format='%(asctime)s - %(levelname)s - %(message)s')\n",
        "\n",
        "def perform_computation(a, b):\n",
        "    \"\"\"Performs a mathematical computation and logs any exceptions.\"\"\"\n",
        "    try:\n",
        "        result = a / b\n",
        "        result = result * (a - b)\n",
        "        return result\n",
        "    except (ZeroDivisionError, TypeError) as e:\n",
        "        logging.exception(f\"Error during computation: {e}\")\n",
        "        return None\n",
        "\n",
        "# Example usage\n",
        "num1 = 10\n",
        "num2 = 0\n",
        "\n",
        "result = perform_computation(num1, num2)\n",
        "\n",
        "if result is not None:\n",
        "    print(f\"Result: {result}\")\n",
        "else:\n",
        "    print(\"An error occurred. Check the math_errors.log file for details.\")"
      ]
    },
    {
      "cell_type": "markdown",
      "metadata": {
        "id": "duHVS9rbgVDd"
      },
      "source": [
        "41.\tDefine a class for a Rectangle that calculates the area and perimeter."
      ]
    },
    {
      "cell_type": "code",
      "execution_count": null,
      "metadata": {
        "colab": {
          "base_uri": "https://localhost:8080/"
        },
        "id": "5jPd0UzrgeDH",
        "outputId": "f3b07278-04fb-49f0-b8e7-9507ba79e651"
      },
      "outputs": [
        {
          "name": "stdout",
          "output_type": "stream",
          "text": [
            "Area: 20\n",
            "Perimeter: 18\n"
          ]
        }
      ],
      "source": [
        "class Rectangle:\n",
        "\n",
        "    def __init__(self, length, width):\n",
        "        self.length = length\n",
        "        self.width = width\n",
        "\n",
        "    def area(self):\n",
        "        return self.length * self.width\n",
        "\n",
        "    def perimeter(self):\n",
        "        return 2 * (self.length + self.width)\n",
        "\n",
        "# Example usage\n",
        "rectangle = Rectangle(5, 4)\n",
        "\n",
        "area = rectangle.area()\n",
        "perimeter = rectangle.perimeter()\n",
        "\n",
        "print(f\"Area: {area}\")\n",
        "print(f\"Perimeter: {perimeter}\")"
      ]
    },
    {
      "cell_type": "markdown",
      "metadata": {
        "id": "qSojKFYvgfZq"
      },
      "source": [
        "42.\tCreate a class that models a BankAccount with methods to deposit and withdraw funds."
      ]
    },
    {
      "cell_type": "code",
      "execution_count": null,
      "metadata": {
        "colab": {
          "base_uri": "https://localhost:8080/"
        },
        "id": "z--08qdEgsM9",
        "outputId": "8007e3de-683e-406f-a484-6758b7184ad1"
      },
      "outputs": [
        {
          "name": "stdout",
          "output_type": "stream",
          "text": [
            "Deposited $500.00. New balance: $1500.00\n",
            "Withdrew $200.00. New balance: $1300.00\n",
            "Insufficient funds.\n"
          ]
        }
      ],
      "source": [
        "class BankAccount:\n",
        "\n",
        "    def __init__(self, account_number, initial_balance=0):\n",
        "        self.account_number = account_number\n",
        "        self.balance = initial_balance\n",
        "\n",
        "    def deposit(self, amount):\n",
        "        if amount > 0:\n",
        "            self.balance += amount\n",
        "            print(f\"Deposited ${amount:.2f}. New balance: ${self.balance:.2f}\")\n",
        "        else:\n",
        "            print(\"Invalid deposit amount. Amount must be positive.\")\n",
        "\n",
        "    def withdraw(self, amount):\n",
        "        if amount > 0:\n",
        "            if self.balance >= amount:\n",
        "                self.balance -= amount\n",
        "                print(f\"Withdrew ${amount:.2f}. New balance: ${self.balance:.2f}\")\n",
        "            else:\n",
        "                print(\"Insufficient funds.\")\n",
        "        else:\n",
        "            print(\"Invalid withdrawal amount. Amount must be positive.\")\n",
        "account = BankAccount(\"1234567890\", 1000)\n",
        "\n",
        "account.deposit(500)\n",
        "account.withdraw(200)\n",
        "account.withdraw(1500)"
      ]
    },
    {
      "cell_type": "markdown",
      "metadata": {
        "id": "WheKGtr9guEO"
      },
      "source": [
        "43.\tImplement inheritance by creating a Circle class that inherits from a Shape class."
      ]
    },
    {
      "cell_type": "code",
      "execution_count": null,
      "metadata": {
        "colab": {
          "base_uri": "https://localhost:8080/"
        },
        "id": "kVGZ8oSag5Yx",
        "outputId": "60f3db05-5440-4ee6-83fa-2e7b01818819"
      },
      "outputs": [
        {
          "name": "stdout",
          "output_type": "stream",
          "text": [
            "Color: red\n",
            "Area: 78.53981633974483\n",
            "Circumference: 31.41592653589793\n"
          ]
        }
      ],
      "source": [
        "import math\n",
        "\n",
        "class Shape:\n",
        "    def __init__(self, color=\"black\"):\n",
        "        self.color = color\n",
        "\n",
        "    def get_color(self):\n",
        "        return self.color\n",
        "\n",
        "class Circle(Shape):\n",
        "    def __init__(self, radius, color=\"black\"):\n",
        "        super().__init__(color)\n",
        "        self.radius = radius\n",
        "\n",
        "    def area(self):\n",
        "        return math.pi * self.radius**2\n",
        "\n",
        "    def perimeter(self):\n",
        "        return 2 * math.pi * self.radius\n",
        "\n",
        "circle = Circle(5, \"red\")\n",
        "\n",
        "print(f\"Color: {circle.get_color()}\")\n",
        "print(f\"Area: {circle.area()}\")\n",
        "print(f\"Circumference: {circle.perimeter()}\")"
      ]
    },
    {
      "cell_type": "markdown",
      "metadata": {
        "id": "2SVgwDUIg9SZ"
      },
      "source": [
        "44.\tWrite a program that demonstrates encapsulation through private class members."
      ]
    },
    {
      "cell_type": "code",
      "execution_count": null,
      "metadata": {
        "colab": {
          "base_uri": "https://localhost:8080/"
        },
        "id": "UHz4Yj-ehGIV",
        "outputId": "2746b6dd-3fb4-4343-eb03-42554f9d1f01"
      },
      "outputs": [
        {
          "name": "stdout",
          "output_type": "stream",
          "text": [
            "Make: Toyota\n",
            "Model: Camry\n",
            "Year: 2023\n",
            "Mileage: 0\n",
            "Drove 100 miles. Total mileage: 100\n"
          ]
        }
      ],
      "source": [
        "class Car:\n",
        "    def __init__(self, make, model, year):\n",
        "        self.__make = make\n",
        "        self.__model = model\n",
        "        self.__year = year\n",
        "        self.__mileage = 0\n",
        "\n",
        "    def get_make(self):\n",
        "        return self.__make\n",
        "\n",
        "    def get_model(self):\n",
        "        return self.__model\n",
        "\n",
        "    def get_year(self):\n",
        "        return self.__year\n",
        "\n",
        "    def get_mileage(self):\n",
        "        return self.__mileage\n",
        "\n",
        "    def drive(self, distance):\n",
        "        \"\"\"Increases the car's mileage.\"\"\"\n",
        "        if distance > 0:\n",
        "            self.__mileage += distance\n",
        "            print(f\"Drove {distance} miles. Total mileage: {self.__mileage}\")\n",
        "        else:\n",
        "            print(\"Invalid distance. Distance must be positive.\")\n",
        "\n",
        "my_car = Car(\"Toyota\", \"Camry\", 2023)\n",
        "\n",
        "print(f\"Make: {my_car.get_make()}\")\n",
        "print(f\"Model: {my_car.get_model()}\")\n",
        "print(f\"Year: {my_car.get_year()}\")\n",
        "print(f\"Mileage: {my_car.get_mileage()}\")\n",
        "\n",
        "my_car.drive(100)\n"
      ]
    },
    {
      "cell_type": "markdown",
      "metadata": {
        "id": "NjEvklwLhKmL"
      },
      "source": [
        "45.\tCreate an abstract class Animal with subclasses for Dog and Cat."
      ]
    },
    {
      "cell_type": "code",
      "execution_count": null,
      "metadata": {
        "colab": {
          "base_uri": "https://localhost:8080/"
        },
        "id": "5oh8iA25hPxU",
        "outputId": "61e43144-fcc1-4fe9-b2b3-d6aad02c58c3"
      },
      "outputs": [
        {
          "name": "stdout",
          "output_type": "stream",
          "text": [
            "Buddy says Woof!\n",
            "Whiskers says Meow!\n"
          ]
        }
      ],
      "source": [
        "from abc import ABC, abstractmethod\n",
        "\n",
        "class Animal(ABC):\n",
        "    def __init__(self, name):\n",
        "        self.name = name\n",
        "    @abstractmethod\n",
        "    def make_sound(self):\n",
        "        pass\n",
        "\n",
        "class Dog(Animal):\n",
        "    def make_sound(self):\n",
        "        print(f\"{self.name} says Woof!\")\n",
        "\n",
        "class Cat(Animal):\n",
        "    def make_sound(self):\n",
        "        print(f\"{self.name} says Meow!\")\n",
        "dog = Dog(\"Buddy\")\n",
        "cat = Cat(\"Whiskers\")\n",
        "\n",
        "dog.make_sound()\n",
        "cat.make_sound()"
      ]
    },
    {
      "cell_type": "markdown",
      "metadata": {
        "id": "hU9q-YxqhTrg"
      },
      "source": [
        "46.\tImplement a binary search algorithm on a sorted list of numbers."
      ]
    },
    {
      "cell_type": "code",
      "execution_count": null,
      "metadata": {
        "colab": {
          "base_uri": "https://localhost:8080/"
        },
        "id": "McNauiYshder",
        "outputId": "e0677018-5c5c-42a4-be44-6c2b684034bc"
      },
      "outputs": [
        {
          "name": "stdout",
          "output_type": "stream",
          "text": [
            "Target 11 found at index 4\n"
          ]
        }
      ],
      "source": [
        "def binary_search(arr, target):\n",
        "    low = 0\n",
        "    high = len(arr) - 1\n",
        "\n",
        "    while low <= high:\n",
        "        mid = (low + high) // 2\n",
        "\n",
        "        if arr[mid] == target:\n",
        "            return mid\n",
        "        elif arr[mid] < target:\n",
        "            low = mid + 1\n",
        "        else:\n",
        "            high = mid - 1\n",
        "\n",
        "    return -1\n",
        "\n",
        "numbers = [2, 5, 7, 8, 11, 12]\n",
        "target = 11\n",
        "\n",
        "index = binary_search(numbers, target)\n",
        "\n",
        "if index != -1:\n",
        "    print(f\"Target {target} found at index {index}\")\n",
        "else:\n",
        "    print(f\"Target {target} not found in the list\")"
      ]
    },
    {
      "cell_type": "markdown",
      "metadata": {
        "id": "fV7Ua0_chfU7"
      },
      "source": [
        "47.\tWrite a sorting algorithm (e.g., bubble sort) and test its functionality."
      ]
    },
    {
      "cell_type": "code",
      "execution_count": null,
      "metadata": {
        "colab": {
          "base_uri": "https://localhost:8080/"
        },
        "id": "AkqRYyfYhrOc",
        "outputId": "3526e137-02cc-4309-d1de-fc4c76e5435e"
      },
      "outputs": [
        {
          "name": "stdout",
          "output_type": "stream",
          "text": [
            "Sorted array: [11, 12, 22, 25, 34, 64, 90]\n"
          ]
        }
      ],
      "source": [
        "def bubble_sort(arr):\n",
        "\n",
        "    n = len(arr)\n",
        "    for i in range(n):\n",
        "        swapped = False\n",
        "        for j in range(0, n - i - 1):\n",
        "\n",
        "            if arr[j] > arr[j + 1]:\n",
        "                arr[j], arr[j + 1] = arr[j + 1], arr[j]\n",
        "                swapped = True\n",
        "\n",
        "        if not swapped:\n",
        "            break\n",
        "numbers = [64, 34, 25, 12, 22, 11, 90]\n",
        "\n",
        "bubble_sort(numbers)\n",
        "\n",
        "print(\"Sorted array:\", numbers)"
      ]
    },
    {
      "cell_type": "markdown",
      "metadata": {
        "id": "1_gqCLcThwDG"
      },
      "source": [
        "48.\tCreate a program that utilizes a hashtable to store and retrieve key-value pairs."
      ]
    },
    {
      "cell_type": "code",
      "execution_count": null,
      "metadata": {
        "colab": {
          "base_uri": "https://localhost:8080/"
        },
        "id": "PjyJxMtHoFXn",
        "outputId": "c37be271-923e-4fcb-e14a-b959190e421c"
      },
      "outputs": [
        {
          "name": "stdout",
          "output_type": "stream",
          "text": [
            "aashi\n",
            "20\n"
          ]
        }
      ],
      "source": [
        "hash_table = {}\n",
        "\n",
        "def add(key, value):\n",
        "    hash_table[key] = value\n",
        "\n",
        "def get(key):\n",
        "    return hash_table.get(key)\n",
        "\n",
        "add(\"name\", \"aashi\")\n",
        "add(\"age\", 20)\n",
        "\n",
        "print(get(\"name\"))\n",
        "print(get(\"age\"))"
      ]
    },
    {
      "cell_type": "markdown",
      "metadata": {
        "id": "ObLV4reqh8h0"
      },
      "source": [
        "49.\tDevelop a function that sorts a list of dictionaries based on the values of a specific key."
      ]
    },
    {
      "cell_type": "code",
      "execution_count": null,
      "metadata": {
        "colab": {
          "base_uri": "https://localhost:8080/"
        },
        "id": "mgFzmB_TiF63",
        "outputId": "a25befaa-dfdc-4479-8483-e72a22ab0b97"
      },
      "outputs": [
        {
          "name": "stdout",
          "output_type": "stream",
          "text": [
            "Sorted by name: [{'name': 'Aashi', 'age': 30}, {'name': 'hitesh', 'age': 25}, {'name': 'pooja', 'age': 35}]\n",
            "Sorted by age: [{'name': 'hitesh', 'age': 25}, {'name': 'Aashi', 'age': 30}, {'name': 'pooja', 'age': 35}]\n"
          ]
        }
      ],
      "source": [
        "def sort_dictionaries(list_of_dicts, key):\n",
        "    return sorted(list_of_dicts, key=lambda item: item[key])\n",
        "data = [\n",
        "    {'name': 'Aashi', 'age': 30},\n",
        "    {'name': 'hitesh', 'age': 25},\n",
        "    {'name': 'pooja', 'age': 35}\n",
        "]\n",
        "sorted_data_by_name = sort_dictionaries(data, 'name')\n",
        "sorted_data_by_age = sort_dictionaries(data, 'age')\n",
        "\n",
        "print(f\"Sorted by name: {sorted_data_by_name}\")\n",
        "print(f\"Sorted by age: {sorted_data_by_age}\")"
      ]
    },
    {
      "cell_type": "markdown",
      "metadata": {
        "id": "_nfAJpwXiK2Y"
      },
      "source": [
        "50.\tWrite a program that implements a breadth-first search for a graph structure."
      ]
    },
    {
      "cell_type": "code",
      "execution_count": null,
      "metadata": {
        "colab": {
          "base_uri": "https://localhost:8080/"
        },
        "id": "7VxBa9B7iSKg",
        "outputId": "3afe1ec2-b5e4-47d0-8600-b9395678f6d5"
      },
      "outputs": [
        {
          "name": "stdout",
          "output_type": "stream",
          "text": [
            "Breadth-First Traversal starting from 'A': ['A', 'B', 'C', 'D', 'E', 'F']\n"
          ]
        }
      ],
      "source": [
        "from collections import deque\n",
        "\n",
        "def breadth_first_search(graph, start_node):\n",
        "    visited = set()\n",
        "    queue = deque([start_node])\n",
        "    traversal_order = []\n",
        "\n",
        "    while queue:\n",
        "        node = queue.popleft()\n",
        "        if node not in visited:\n",
        "            visited.add(node)\n",
        "            traversal_order.append(node)\n",
        "            queue.extend(neighbor for neighbor in graph[node] if neighbor not in visited)\n",
        "\n",
        "    return traversal_order\n",
        "graph = {\n",
        "    'A': ['B', 'C'],\n",
        "    'B': ['A', 'D', 'E'],\n",
        "    'C': ['A', 'F'],\n",
        "    'D': ['B'],\n",
        "    'E': ['B', 'F'],\n",
        "    'F': ['C', 'E']\n",
        "}\n",
        "\n",
        "start_node = 'A'\n",
        "\n",
        "traversal_order = breadth_first_search(graph, start_node)\n",
        "\n",
        "print(f\"Breadth-First Traversal starting from '{start_node}': {traversal_order}\")"
      ]
    },
    {
      "cell_type": "markdown",
      "metadata": {
        "id": "SvbptTpeiUUr"
      },
      "source": [
        "51.\tUse Matplotlib to plot a simple line graph representing a mathematical function."
      ]
    },
    {
      "cell_type": "code",
      "execution_count": null,
      "metadata": {
        "colab": {
          "base_uri": "https://localhost:8080/",
          "height": 472
        },
        "id": "yOi4u7feifIQ",
        "outputId": "b679d6c3-3e93-45cc-fe06-0b2d4c7409f2"
      },
      "outputs": [
        {
          "data": {
            "image/png": "[encoded data removed]",
            "text/plain": [
              "<Figure size 640x480 with 1 Axes>"
            ]
          },
          "metadata": {},
          "output_type": "display_data"
        }
      ],
      "source": [
        "import matplotlib.pyplot as plt\n",
        "import numpy as np\n",
        "def f(x):\n",
        "    return x**2\n",
        "x = np.linspace(-5, 5, 100)\n",
        "y = f(x)\n",
        "plt.plot(x, y)\n",
        "plt.xlabel(\"x\")\n",
        "plt.ylabel(\"f(x)\")\n",
        "plt.title(\"Graph of f(x) = x^2\")\n",
        "plt.show()"
      ]
    },
    {
      "cell_type": "markdown",
      "metadata": {
        "id": "UlUVgUwBpYdt"
      },
      "source": [
        "52.\tCreate a program that plots a scatter plot for random data points."
      ]
    },
    {
      "cell_type": "code",
      "execution_count": null,
      "metadata": {
        "colab": {
          "base_uri": "https://localhost:8080/",
          "height": 472
        },
        "id": "0NH5g1EOpeYQ",
        "outputId": "f619fa8a-9a0b-4d50-baa5-987c4d330090"
      },
      "outputs": [
        {
          "data": {
            "image/png": "[encoded data removed]",
            "text/plain": [
              "<Figure size 640x480 with 1 Axes>"
            ]
          },
          "metadata": {},
          "output_type": "display_data"
        }
      ],
      "source": [
        "import matplotlib.pyplot as plt\n",
        "import numpy as np\n",
        "\n",
        "num_points = 50\n",
        "x = np.random.rand(num_points)\n",
        "y = np.random.rand(num_points)\n",
        "\n",
        "plt.scatter(x, y, color='blue', marker='o', label='Data Points')\n",
        "\n",
        "plt.xlabel('X-axis')\n",
        "plt.ylabel('Y-axis')\n",
        "plt.title('Scatter Plot of Random Data Points')\n",
        "plt.legend()\n",
        "plt.show()"
      ]
    },
    {
      "cell_type": "markdown",
      "metadata": {
        "id": "fWkWfqeipfrW"
      },
      "source": [
        "53.\tImplement a bar chart visualizing sales data over a month."
      ]
    },
    {
      "cell_type": "code",
      "execution_count": null,
      "metadata": {
        "colab": {
          "base_uri": "https://localhost:8080/",
          "height": 487
        },
        "id": "nlAeqoobpnmR",
        "outputId": "1f5b19fb-5ffc-43a8-9f4f-60ff09750ea7"
      },
      "outputs": [
        {
          "data": {
            "image/png": "[encoded data removed]",
            "text/plain": [
              "<Figure size 640x480 with 1 Axes>"
            ]
          },
          "metadata": {},
          "output_type": "display_data"
        }
      ],
      "source": [
        "import matplotlib.pyplot as plt\n",
        "import numpy as np\n",
        "\n",
        "months = ['Jan', 'Feb', 'Mar', 'Apr', 'May', 'Jun', 'Jul', 'Aug', 'Sep', 'Oct', 'Nov', 'Dec']\n",
        "sales_data = [15000, 18000, 16500, 20000, 22000, 25000, 23000, 24000, 21000, 19000, 23000, 26000]\n",
        "\n",
        "plt.bar(months, sales_data, color='skyblue', edgecolor='black')\n",
        "\n",
        "plt.xlabel('Month')\n",
        "plt.ylabel('Sales')\n",
        "plt.title('Monthly Sales Data')\n",
        "plt.xticks(rotation=45, ha='right')\n",
        "\n",
        "for i, v in enumerate(sales_data):\n",
        "    plt.text(i, v + 500, str(v), ha='center', va='bottom', color='black')\n",
        "\n",
        "plt.tight_layout()\n",
        "plt.show()"
      ]
    },
    {
      "cell_type": "markdown",
      "metadata": {
        "id": "GkKhDDD4pqXr"
      },
      "source": [
        "54.\tWrite a program that demonstrates plotting the Fibonacci sequence with PyLab."
      ]
    },
    {
      "cell_type": "code",
      "execution_count": null,
      "metadata": {
        "colab": {
          "base_uri": "https://localhost:8080/",
          "height": 472
        },
        "id": "qvQ2UWwhpwNw",
        "outputId": "35ca1fba-0a16-4f35-bd97-8d9e16b8ad26"
      },
      "outputs": [
        {
          "data": {
            "image/png": "[encoded data removed]",
            "text/plain": [
              "<Figure size 640x480 with 1 Axes>"
            ]
          },
          "metadata": {},
          "output_type": "display_data"
        }
      ],
      "source": [
        "import pylab\n",
        "\n",
        "def fibonacci(n):\n",
        "    fib_sequence = [0, 1]\n",
        "    while len(fib_sequence) < n:\n",
        "        next_fib = fib_sequence[-1] + fib_sequence[-2]\n",
        "        fib_sequence.append(next_fib)\n",
        "    return fib_sequence\n",
        "num_terms = 10\n",
        "fib_numbers = fibonacci(num_terms)\n",
        "pylab.plot(fib_numbers, marker='o', linestyle='-', color='b')\n",
        "\n",
        "pylab.xlabel('Term')\n",
        "pylab.ylabel('Value')\n",
        "pylab.title('Fibonacci Sequence')\n",
        "pylab.grid(True)\n",
        "\n",
        "pylab.show()\n"
      ]
    },
    {
      "cell_type": "markdown",
      "metadata": {
        "id": "3-6TQy7wpxaY"
      },
      "source": [
        "55.\tCreate a function that plots the trajectory of a projectile motion."
      ]
    },
    {
      "cell_type": "code",
      "execution_count": null,
      "metadata": {
        "colab": {
          "base_uri": "https://localhost:8080/",
          "height": 472
        },
        "id": "V94F8Z3rp4y-",
        "outputId": "ab18d45b-bee8-4432-aba4-5af65c7396de"
      },
      "outputs": [
        {
          "data": {
            "image/png": "[encoded data removed]",
            "text/plain": [
              "<Figure size 640x480 with 1 Axes>"
            ]
          },
          "metadata": {},
          "output_type": "display_data"
        }
      ],
      "source": [
        "import numpy as np\n",
        "import matplotlib.pyplot as plt\n",
        "\n",
        "def plot_projectile_trajectory(initial_velocity, launch_angle_degrees, gravity=9.8):\n",
        "\n",
        "    launch_angle_radians = np.radians(launch_angle_degrees)\n",
        "\n",
        "    time_of_flight = (2 * initial_velocity * np.sin(launch_angle_radians)) / gravity\n",
        "\n",
        "    time = np.linspace(0, time_of_flight, num=100)\n",
        "\n",
        "    x_position = initial_velocity * np.cos(launch_angle_radians) * time\n",
        "    y_position = (initial_velocity * np.sin(launch_angle_radians) * time) - (0.5 * gravity * time**2)\n",
        "\n",
        "    plt.plot(x_position, y_position)\n",
        "    plt.xlabel(\"Horizontal Distance (m)\")\n",
        "    plt.ylabel(\"Vertical Distance (m)\")\n",
        "    plt.title(\"Projectile Trajectory\")\n",
        "    plt.grid(True)\n",
        "    plt.show()\n",
        "\n",
        "\n",
        "initial_velocity = 20\n",
        "launch_angle_degrees = 45\n",
        "\n",
        "plot_projectile_trajectory(initial_velocity, launch_angle_degrees)"
      ]
    },
    {
      "cell_type": "markdown",
      "metadata": {
        "id": "dKx0PaV1p6Ew"
      },
      "source": [
        "56.\tImplement the 0/1 knapsack algorithm to solve a simple problem."
      ]
    },
    {
      "cell_type": "code",
      "execution_count": null,
      "metadata": {
        "colab": {
          "base_uri": "https://localhost:8080/"
        },
        "id": "SDVbD5ErqFw2",
        "outputId": "3d65c7bc-8d31-4586-d6b9-d1b07a05571d"
      },
      "outputs": [
        {
          "name": "stdout",
          "output_type": "stream",
          "text": [
            "Maximum value: 220\n",
            "Selected items (indices): [2, 1]\n"
          ]
        }
      ],
      "source": [
        "def knapsack_01(weights, values, capacity):\n",
        "\n",
        "    n = len(weights)\n",
        "    dp = [[0 for _ in range(capacity + 1)] for _ in range(n + 1)]\n",
        "\n",
        "    for i in range(n + 1):\n",
        "        for w in range(capacity + 1):\n",
        "            if i == 0 or w == 0:\n",
        "                dp[i][w] = 0\n",
        "            elif weights[i - 1] <= w:\n",
        "                dp[i][w] = max(values[i - 1] + dp[i - 1][w - weights[i - 1]], dp[i - 1][w])\n",
        "            else:\n",
        "                dp[i][w] = dp[i - 1][w]\n",
        "\n",
        "    max_value = dp[n][capacity]\n",
        "    selected_items = []\n",
        "    i = n\n",
        "    w = capacity\n",
        "    while i > 0 and w > 0:\n",
        "        if dp[i][w] != dp[i - 1][w]:\n",
        "            selected_items.append(i - 1)\n",
        "            w -= weights[i - 1]\n",
        "            i -= 1\n",
        "        else:\n",
        "            i -= 1\n",
        "\n",
        "    return max_value, selected_items\n",
        "\n",
        "weights = [10, 20, 30]\n",
        "values = [60, 100, 120]\n",
        "capacity = 50\n",
        "\n",
        "max_value, selected_items = knapsack_01(weights, values, capacity)\n",
        "\n",
        "print(f\"Maximum value: {max_value}\")\n",
        "print(f\"Selected items (indices): {selected_items}\")"
      ]
    },
    {
      "cell_type": "markdown",
      "metadata": {
        "id": "mPLBvdFWqH12"
      },
      "source": [
        "57.\tWrite a dynamic programming solution for finding the longest common subsequence."
      ]
    },
    {
      "cell_type": "code",
      "execution_count": null,
      "metadata": {
        "colab": {
          "base_uri": "https://localhost:8080/"
        },
        "id": "dGnmuuXB0A_O",
        "outputId": "78766a4b-1471-4b5a-f484-6dc6781e45c2"
      },
      "outputs": [
        {
          "name": "stdout",
          "output_type": "stream",
          "text": [
            "Length of LCS is 4\n"
          ]
        }
      ],
      "source": [
        "def lcs(X, Y, m, n):\n",
        "    L = [[0 for x in range(n+1)] for x in range(m+1)]\n",
        "\n",
        "    for i in range(m+1):\n",
        "        for j in range(n+1):\n",
        "            if i == 0 or j == 0:\n",
        "                L[i][j] = 0\n",
        "            elif X[i-1] == Y[j-1]:\n",
        "                L[i][j] = L[i-1][j-1] + 1\n",
        "            else:\n",
        "                L[i][j] = max(L[i-1][j], L[i][j-1])\n",
        "\n",
        "    return L[m][n]\n",
        "\n",
        "X = \"AGGTAB\"\n",
        "Y = \"GXTXAYB\"\n",
        "m = len(X)\n",
        "n = len(Y)\n",
        "print(\"Length of LCS is\", lcs(X, Y, m, n))"
      ]
    },
    {
      "cell_type": "markdown",
      "metadata": {
        "id": "52gRI-a4qTZs"
      },
      "source": [
        "58.\tCreate a program to visualize dynamic programming approaches for the Fibonacci sequence."
      ]
    },
    {
      "cell_type": "code",
      "execution_count": null,
      "metadata": {
        "colab": {
          "base_uri": "https://localhost:8080/",
          "height": 472
        },
        "id": "e2wFlBLu0i_B",
        "outputId": "ee4a5032-0e58-4ab5-bfdd-150a549babbd"
      },
      "outputs": [
        {
          "data": {
            "image/png": "[encoded data removed]",
            "text/plain": [
              "<Figure size 640x480 with 1 Axes>"
            ]
          },
          "metadata": {},
          "output_type": "display_data"
        }
      ],
      "source": [
        "import matplotlib.pyplot as plt\n",
        "import numpy as np\n",
        "\n",
        "def fib_dp(n):\n",
        "    fib_numbers = [0, 1]\n",
        "    for i in range(2, n+1):\n",
        "        fib_numbers.append(fib_numbers[i-1] + fib_numbers[i-2])\n",
        "    return fib_numbers\n",
        "\n",
        "n = 10\n",
        "fib_nums = fib_dp(n)\n",
        "x = np.arange(n+1)\n",
        "\n",
        "plt.plot(x, fib_nums)\n",
        "plt.xlabel('Index')\n",
        "plt.ylabel('Fibonacci Number')\n",
        "plt.title('Fibonacci Sequence (Dynamic Programming)')\n",
        "plt.show()"
      ]
    },
    {
      "cell_type": "markdown",
      "metadata": {
        "id": "MaipX0ZBqhmJ"
      },
      "source": [
        "59.\tDevelop a divide-and-conquer algorithm to sort an array."
      ]
    },
    {
      "cell_type": "code",
      "execution_count": null,
      "metadata": {
        "colab": {
          "base_uri": "https://localhost:8080/"
        },
        "id": "DdiLxcLJqrP6",
        "outputId": "c77bba2c-d50d-4d52-c4e7-77a938a9fb32"
      },
      "outputs": [
        {
          "name": "stdout",
          "output_type": "stream",
          "text": [
            "Sorted array: [11, 12, 22, 25, 34, 64, 90]\n"
          ]
        }
      ],
      "source": [
        "def merge_sort(arr):\n",
        "\n",
        "    if len(arr) > 1:\n",
        "        mid = len(arr) // 2\n",
        "        left_half = arr[:mid]\n",
        "        right_half = arr[mid:]\n",
        "        merge_sort(left_half)\n",
        "        merge_sort(right_half)\n",
        "        i = j = k = 0\n",
        "        while i < len(left_half) and j < len(right_half):\n",
        "            if left_half[i] < right_half[j]:\n",
        "                arr[k] = left_half[i]\n",
        "                i += 1\n",
        "            else:\n",
        "                arr[k] = right_half[j]\n",
        "                j += 1\n",
        "            k += 1\n",
        "        while i < len(left_half):\n",
        "            arr[k] = left_half[i]\n",
        "            i += 1\n",
        "            k += 1\n",
        "\n",
        "        while j < len(right_half):\n",
        "            arr[k] = right_half[j]\n",
        "            j += 1\n",
        "            k += 1\n",
        "\n",
        "    return arr\n",
        "\n",
        "numbers = [64, 34, 25, 12, 22, 11, 90]\n",
        "\n",
        "sorted_numbers = merge_sort(numbers)\n",
        "\n",
        "print(\"Sorted array:\", sorted_numbers)"
      ]
    },
    {
      "cell_type": "markdown",
      "metadata": {
        "id": "tDZxiAStquXc"
      },
      "source": [
        "60.\tWrite a Python function that uses memoization to optimize a recursive problem."
      ]
    },
    {
      "cell_type": "code",
      "execution_count": null,
      "metadata": {
        "colab": {
          "base_uri": "https://localhost:8080/"
        },
        "id": "Zw7IwOgBq3fx",
        "outputId": "bc5779e7-c78a-421e-95bd-2c013e3aecd2"
      },
      "outputs": [
        {
          "name": "stdout",
          "output_type": "stream",
          "text": [
            "The 10th Fibonacci number is: 55\n"
          ]
        }
      ],
      "source": [
        "def fibonacci_memoization(n, memo={}):\n",
        "    if n in memo:\n",
        "        return memo[n]\n",
        "    if n <= 1:\n",
        "        return n\n",
        "    else:\n",
        "        memo[n] = fibonacci_memoization(n - 1, memo) + fibonacci_memoization(n - 2, memo)\n",
        "        return memo[n]\n",
        "n = 10\n",
        "result = fibonacci_memoization(n)\n",
        "\n",
        "print(f\"The {n}th Fibonacci number is: {result}\")"
      ]
    },
    {
      "cell_type": "markdown",
      "metadata": {
        "id": "ibCoeLeBq6p4"
      },
      "source": [
        "61.\tCreate an application that manages a library system with classes for Book and Library."
      ]
    },
    {
      "cell_type": "code",
      "execution_count": null,
      "metadata": {
        "colab": {
          "base_uri": "https://localhost:8080/"
        },
        "id": "etQQHp8frHrR",
        "outputId": "a5f7344f-27fe-47be-ea54-23bc46b74a6a"
      },
      "outputs": [
        {
          "name": "stdout",
          "output_type": "stream",
          "text": [
            "The Lord of the Rings by J.R.R. Tolkien has been added to the library.\n",
            "The Hitchhiker's Guide to the Galaxy by Douglas Adams has been added to the library.\n",
            "\n",
            "--- All Books in the Library ---\n",
            "Title: The Lord of the Rings, Author: J.R.R. Tolkien, ISBN: 9780547928227, Borrowed: False\n",
            "Title: The Hitchhiker's Guide to the Galaxy, Author: Douglas Adams, ISBN: 9780345391803, Borrowed: False\n",
            "\n",
            "--- Search Results ---\n",
            "Title: The Hitchhiker's Guide to the Galaxy, Author: Douglas Adams, ISBN: 9780345391803, Borrowed: False\n",
            "The Lord of the Rings by J.R.R. Tolkien has been borrowed.\n",
            "The Lord of the Rings by J.R.R. Tolkien has been returned.\n",
            "The Lord of the Rings by J.R.R. Tolkien has been removed from the library.\n",
            "\n",
            "--- All Books in the Library ---\n",
            "Title: The Hitchhiker's Guide to the Galaxy, Author: Douglas Adams, ISBN: 9780345391803, Borrowed: False\n"
          ]
        }
      ],
      "source": [
        "class Book:\n",
        "    def __init__(self, title, author, isbn):\n",
        "        self.title = title\n",
        "        self.author = author\n",
        "        self.isbn = isbn\n",
        "        self.is_borrowed = False\n",
        "\n",
        "    def __str__(self):\n",
        "        return f\"Title: {self.title}, Author: {self.author}, ISBN: {self.isbn}, Borrowed: {self.is_borrowed}\"\n",
        "\n",
        "    def borrow(self):\n",
        "        if not self.is_borrowed:\n",
        "            self.is_borrowed = True\n",
        "            print(f\"{self.title} by {self.author} has been borrowed.\")\n",
        "        else:\n",
        "            print(f\"{self.title} is already borrowed.\")\n",
        "\n",
        "    def return_book(self):\n",
        "        if self.is_borrowed:\n",
        "            self.is_borrowed = False\n",
        "            print(f\"{self.title} by {self.author} has been returned.\")\n",
        "        else:\n",
        "            print(f\"{self.title} is not currently borrowed.\")\n",
        "\n",
        "class Library:\n",
        "    def __init__(self):\n",
        "        self.books = []\n",
        "\n",
        "    def add_book(self, book):\n",
        "        self.books.append(book)\n",
        "        print(f\"{book.title} by {book.author} has been added to the library.\")\n",
        "\n",
        "    def remove_book(self, book):\n",
        "        if book in self.books:\n",
        "            self.books.remove(book)\n",
        "            print(f\"{book.title} by {book.author} has been removed from the library.\")\n",
        "        else:\n",
        "            print(f\"{book.title} is not in the library.\")\n",
        "\n",
        "    def search_book(self, query):\n",
        "        results = []\n",
        "        for book in self.books:\n",
        "            if query.lower() in book.title.lower() or query.lower() in book.author.lower():\n",
        "                results.append(book)\n",
        "        return results\n",
        "\n",
        "    def display_all_books(self):\n",
        "        if self.books:\n",
        "            print(\"\\n--- All Books in the Library ---\")\n",
        "            for book in self.books:\n",
        "                print(book)\n",
        "        else:\n",
        "            print(\"The library is currently empty.\")\n",
        "library = Library()\n",
        "\n",
        "book1 = Book(\"The Lord of the Rings\", \"J.R.R. Tolkien\", \"9780547928227\")\n",
        "book2 = Book(\"The Hitchhiker's Guide to the Galaxy\", \"Douglas Adams\", \"9780345391803\")\n",
        "\n",
        "library.add_book(book1)\n",
        "library.add_book(book2)\n",
        "\n",
        "library.display_all_books()\n",
        "\n",
        "search_results = library.search_book(\"Hitchhiker\")\n",
        "if search_results:\n",
        "    print(\"\\n--- Search Results ---\")\n",
        "    for book in search_results:\n",
        "        print(book)\n",
        "else:\n",
        "    print(\"No books found matching your query.\")\n",
        "\n",
        "book1.borrow()\n",
        "book1.return_book()\n",
        "\n",
        "library.remove_book(book1)\n",
        "library.display_all_books()"
      ]
    },
    {
      "cell_type": "markdown",
      "metadata": {
        "id": "W7llvcFurKqO"
      },
      "source": [
        "62.\tImplement a simple game (e.g., Guess the Number) using branching and loops."
      ]
    },
    {
      "cell_type": "code",
      "execution_count": null,
      "metadata": {
        "colab": {
          "base_uri": "https://localhost:8080/"
        },
        "id": "9IDiD0cdrU5m",
        "outputId": "0324d97d-2dd4-4d63-a948-5df5180ad967"
      },
      "outputs": [
        {
          "name": "stdout",
          "output_type": "stream",
          "text": [
            "Welcome to Guess the Number!\n",
            "I'm thinking of a number between 1 and 100.\n",
            "You have 7 guesses left.\n",
            "Take a guess: 52\n",
            "Too high!\n",
            "You have 6 guesses left.\n",
            "Take a guess: 23\n",
            "Too high!\n",
            "You have 5 guesses left.\n",
            "Take a guess: 12\n",
            "Too high!\n",
            "You have 4 guesses left.\n",
            "Take a guess: 4\n",
            "Too low!\n",
            "You have 3 guesses left.\n",
            "Take a guess: 8\n",
            "Too low!\n",
            "You have 2 guesses left.\n",
            "Take a guess: 10\n",
            "Too low!\n",
            "You have 1 guesses left.\n",
            "Take a guess: 11\n",
            "Congratulations! You guessed the number.\n"
          ]
        }
      ],
      "source": [
        "import random\n",
        "\n",
        "def guess_the_number():\n",
        "    secret_number = random.randint(1, 100)\n",
        "    guesses_left = 7\n",
        "    print(\"Welcome to Guess the Number!\")\n",
        "    print(\"I'm thinking of a number between 1 and 100.\")\n",
        "    while guesses_left > 0:\n",
        "        print(f\"You have {guesses_left} guesses left.\")\n",
        "        try:\n",
        "            guess = int(input(\"Take a guess: \"))\n",
        "        except ValueError:\n",
        "            print(\"Invalid input. Please enter a number.\")\n",
        "            continue\n",
        "\n",
        "        if guess == secret_number:\n",
        "            print(\"Congratulations! You guessed the number.\")\n",
        "            break\n",
        "        elif guess < secret_number:\n",
        "            print(\"Too low!\")\n",
        "        else:\n",
        "            print(\"Too high!\")\n",
        "\n",
        "        guesses_left -= 1\n",
        "\n",
        "    if guesses_left == 0:\n",
        "        print(f\"Sorry, you ran out of guesses. The number was {secret_number}.\")\n",
        "\n",
        "guess_the_number()"
      ]
    },
    {
      "cell_type": "markdown",
      "metadata": {
        "id": "zpN0rwnXrYl9"
      },
      "source": [
        "63.\tWrite a Python program that scrapes data from a website and processes it."
      ]
    },
    {
      "cell_type": "code",
      "execution_count": null,
      "metadata": {
        "colab": {
          "base_uri": "https://localhost:8080/"
        },
        "id": "yJ3cCYSwrhOE",
        "outputId": "c671bc30-e4d5-4f7b-d092-e197224f0594"
      },
      "outputs": [
        {
          "name": "stdout",
          "output_type": "stream",
          "text": [
            "Title: Example Domain\n",
            "Link: https://www.iana.org/domains/example\n"
          ]
        }
      ],
      "source": [
        "import requests\n",
        "from bs4 import BeautifulSoup\n",
        "\n",
        "def scrape_website(url):\n",
        "\n",
        "    try:\n",
        "        response = requests.get(url)\n",
        "        response.raise_for_status()\n",
        "        soup = BeautifulSoup(response.content, \"html.parser\")\n",
        "        titles = soup.find_all(\"h1\")\n",
        "        for title in titles:\n",
        "            print(f\"Title: {title.text.strip()}\")\n",
        "        links = soup.find_all(\"a\")\n",
        "        for link in links:\n",
        "            print(f\"Link: {link.get('href')}\")\n",
        "    except requests.exceptions.RequestException as e:\n",
        "        print(f\"Error: {e}\")\n",
        "url = \"https://www.example.com\"\n",
        "scrape_website(url)"
      ]
    },
    {
      "cell_type": "markdown",
      "metadata": {
        "id": "76jfOXMFrlYa"
      },
      "source": [
        "64.\tDevelop a weather application that retrieves data from an API and displays it using plots."
      ]
    },
    {
      "cell_type": "code",
      "execution_count": null,
      "metadata": {
        "colab": {
          "base_uri": "https://localhost:8080/"
        },
        "id": "m1ba-TD9rwuB",
        "outputId": "da766783-72ad-441d-b28d-3f3dc56834c3"
      },
      "outputs": [
        {
          "name": "stdout",
          "output_type": "stream",
          "text": [
            "Error: 401 Client Error: Unauthorized for url: http://api.openweathermap.org/data/2.5/weather?q=London&appid=YOUR_API_KEY&units=metric\n"
          ]
        }
      ],
      "source": [
        "import requests\n",
        "import matplotlib.pyplot as plt\n",
        "def get_weather_data(city, api_key):\n",
        "    base_url = \"http://api.openweathermap.org/data/2.5/weather\"\n",
        "    params = {\n",
        "        \"q\": city,\n",
        "        \"appid\": api_key,\n",
        "        \"units\": \"metric\"\n",
        "    }\n",
        "    try:\n",
        "        response = requests.get(base_url, params=params)\n",
        "        response.raise_for_status()\n",
        "        data = response.json()\n",
        "        return data\n",
        "    except requests.exceptions.RequestException as e:\n",
        "        print(f\"Error: {e}\")\n",
        "        return None\n",
        "\n",
        "def display_weather_plot(weather_data):\n",
        "\n",
        "    if weather_data:\n",
        "        temperature = weather_data[\"main\"][\"temp\"]\n",
        "        humidity = weather_data[\"main\"][\"humidity\"]\n",
        "        wind_speed = weather_data[\"wind\"][\"speed\"]\n",
        "        labels = [\"Temperature (°C)\", \"Humidity (%)\", \"Wind Speed (m/s)\"]\n",
        "        values = [temperature, humidity, wind_speed]\n",
        "\n",
        "        plt.bar(labels, values, color=['red', 'blue', 'green'])\n",
        "        plt.title(f\"Weather in {weather_data['name']}\")\n",
        "        plt.ylabel(\"Values\")\n",
        "        plt.show()\n",
        "city = \"London\"\n",
        "api_key = \"YOUR_API_KEY\"\n",
        "\n",
        "weather_data = get_weather_data(city, api_key)\n",
        "display_weather_plot(weather_data)"
      ]
    },
    {
      "cell_type": "markdown",
      "metadata": {
        "id": "5lEMG8sD4Pcx"
      },
      "source": [
        "65.\tCreate a ToDo application using classes and file handling to save tasks."
      ]
    },
    {
      "cell_type": "code",
      "execution_count": null,
      "metadata": {
        "colab": {
          "background_save": true,
          "base_uri": "https://localhost:8080/"
        },
        "id": "QRNjIJX44YgP",
        "outputId": "ca4f1cd5-8078-46a3-e397-575fd7b3d593"
      },
      "outputs": [
        {
          "name": "stdout",
          "output_type": "stream",
          "text": [
            "\n",
            "Choose an action:\n",
            "1. Add task\n",
            "2. Remove task\n",
            "3. List tasks\n",
            "4. Exit\n"
          ]
        }
      ],
      "source": [
        "import json\n",
        "\n",
        "class ToDoList:\n",
        "    def __init__(self, filename=\"todo.json\"):\n",
        "        self.filename = filename\n",
        "        self.tasks = self.load_tasks()\n",
        "\n",
        "    def load_tasks(self):\n",
        "        try:\n",
        "            with open(self.filename, \"r\") as file:\n",
        "                return json.load(file)\n",
        "        except FileNotFoundError:\n",
        "            return []\n",
        "\n",
        "    def save_tasks(self):\n",
        "        with open(self.filename, \"w\") as file:\n",
        "            json.dump(self.tasks, file, indent=4)\n",
        "\n",
        "    def add_task(self, task):\n",
        "        self.tasks.append(task)\n",
        "        self.save_tasks()\n",
        "        print(f\"Task '{task}' added.\")\n",
        "\n",
        "    def remove_task(self, task):\n",
        "        if task in self.tasks:\n",
        "            self.tasks.remove(task)\n",
        "            self.save_tasks()\n",
        "            print(f\"Task '{task}' removed.\")\n",
        "        else:\n",
        "            print(f\"Task '{task}' not found.\")\n",
        "\n",
        "    def list_tasks(self):\n",
        "        if self.tasks:\n",
        "            print(\"\\n--- ToDo List ---\")\n",
        "            for i, task in enumerate(self.tasks):\n",
        "                print(f\"{i + 1}. {task}\")\n",
        "        else:\n",
        "            print(\"Your ToDo list is empty.\")\n",
        "\n",
        "def main():\n",
        "    todo_list = ToDoList()\n",
        "\n",
        "    while True:\n",
        "        print(\"\\nChoose an action:\")\n",
        "        print(\"1. Add task\")\n",
        "        print(\"2. Remove task\")\n",
        "        print(\"3. List tasks\")\n",
        "        print(\"4. Exit\")\n",
        "\n",
        "        choice = input(\"> \")\n",
        "\n",
        "        if choice == \"1\":\n",
        "            task = input(\"Enter task: \")\n",
        "            todo_list.add_task(task)\n",
        "        elif choice == \"2\":\n",
        "            task = input(\"Enter task to remove: \")\n",
        "            todo_list.remove_task(task)\n",
        "        elif choice == \"3\":\n",
        "            todo_list.list_tasks()\n",
        "        elif choice == \"4\":\n",
        "            break\n",
        "        else:\n",
        "            print(\"Invalid choice.\")\n",
        "\n",
        "if __name__ == \"__main__\":\n",
        "    main()"
      ]
    },
    {
      "cell_type": "markdown",
      "metadata": {
        "id": "UWaYl2IJ4aBP"
      },
      "source": [
        "66.\tWrite a function that converts a number to its binary string representation."
      ]
    },
    {
      "cell_type": "code",
      "execution_count": null,
      "metadata": {
        "id": "fNr3kOOsF7iX"
      },
      "outputs": [],
      "source": [
        "def decimal_to_binary(n):\n",
        "    binary = \"\"\n",
        "    while n > 0:\n",
        "        binary = str(n % 2) + binary\n",
        "        n //= 2\n",
        "    return binary\n",
        "print(decimal_to_binary(5.6))"
      ]
    },
    {
      "cell_type": "markdown",
      "metadata": {
        "id": "_4s4p34q4jiW"
      },
      "source": [
        "67.\tCreate a program to generate random passwords with specified complexity."
      ]
    },
    {
      "cell_type": "code",
      "execution_count": null,
      "metadata": {
        "id": "-_1H3fi54qCQ"
      },
      "outputs": [],
      "source": [
        "import random\n",
        "import string\n",
        "\n",
        "def generate_password(length=12, include_uppercase=True, include_numbers=True, include_symbols=True):\n",
        "\n",
        "  characters = string.ascii_lowercase\n",
        "\n",
        "  if include_uppercase:\n",
        "    characters += string.ascii_uppercase\n",
        "  if include_numbers:\n",
        "    characters += string.digits\n",
        "  if include_symbols:\n",
        "    characters += string.punctuation\n",
        "\n",
        "  password = ''.join(random.choice(characters) for _ in range(length))\n",
        "  return password\n",
        "password = generate_password(length=16, include_symbols=False)\n",
        "print(f\"Generated password: {password}\")"
      ]
    },
    {
      "cell_type": "markdown",
      "metadata": {
        "id": "Yf-Y2hCP4tDZ"
      },
      "source": [
        "68.\tImplement a text-based version of tic-tac-toe."
      ]
    },
    {
      "cell_type": "code",
      "execution_count": null,
      "metadata": {
        "id": "LIYRkRtF5THY"
      },
      "outputs": [],
      "source": [
        "def print_board(board):\n",
        "  print(\"\\n\")\n",
        "  print(\" \" + board[0] + \" | \" + board[1] + \" | \" + board[2] + \" \")\n",
        "  print(\"---+---+---\")\n",
        "  print(\" \" + board[3] + \" | \" + board[4] + \" | \" + board[5] + \" \")\n",
        "  print(\"---+---+---\")\n",
        "  print(\" \" + board[6] + \" | \" + board[7] + \" | \" + board[8] + \" \")\n",
        "  print(\"\\n\")\n",
        "\n",
        "def check_win(board, player):\n",
        "  win_conditions = [\n",
        "      [0, 1, 2], [3, 4, 5], [6, 7, 8],\n",
        "      [0, 3, 6], [1, 4, 7], [2, 5, 8],\n",
        "      [0, 4, 8], [2, 4, 6]\n",
        "  ]\n",
        "  for condition in win_conditions:\n",
        "    if all(board[i] == player for i in condition):\n",
        "      return True\n",
        "  return False\n",
        "\n",
        "def is_board_full(board):\n",
        "  return all(cell != \" \" for cell in board)\n",
        "\n",
        "def play_tic_tac_toe():\n",
        "  \"\"\"Plays a game of tic-tac-toe.\"\"\"\n",
        "  board = [\" \"] * 9\n",
        "  current_player = \"X\"\n",
        "\n",
        "  while True:\n",
        "    print_board(board)\n",
        "    print(f\"Player {current_player}'s turn.\")\n",
        "\n",
        "    try:\n",
        "      move = int(input(\"Enter your move (1-9): \")) - 1\n",
        "      if 0 <= move < 9 and board[move] == \" \":\n",
        "        board[move] = current_player\n",
        "      else:\n",
        "        print(\"Invalid move. Please try again.\")\n",
        "        continue\n",
        "    except ValueError:\n",
        "      print(\"Invalid input. Please enter a number between 1 and 9.\")\n",
        "      continue\n",
        "\n",
        "    if check_win(board, current_player):\n",
        "      print_board(board)\n",
        "      print(f\"Player {current_player} wins!\")\n",
        "      break\n",
        "    elif is_board_full(board):\n",
        "      print_board(board)\n",
        "      print(\"It's a tie!\")\n",
        "      break\n",
        "\n",
        "    current_player = \"O\" if current_player == \"X\" else \"X\"\n",
        "play_tic_tac_toe()"
      ]
    },
    {
      "cell_type": "markdown",
      "metadata": {
        "id": "imSP6Jgz5Uxy"
      },
      "source": [
        "69.\tWrite a script that applies basic text analysis on a provided text file."
      ]
    },
    {
      "cell_type": "code",
      "execution_count": null,
      "metadata": {
        "id": "xancsXT55oMF"
      },
      "outputs": [],
      "source": [
        "import re\n",
        "\n",
        "def analyze_text(filename):\n",
        "  try:\n",
        "    with open(filename, \"r\") as file:\n",
        "      text = file.read()\n",
        "    words = re.findall(r\"\\b\\w+\\b\", text.lower())\n",
        "    word_count = len(words)\n",
        "    print(f\"Word Count: {word_count}\")\n",
        "    sentences = re.split(r\"[.!?]+\", text)\n",
        "    sentence_count = len(sentences) - 1\n",
        "    print(f\"Sentence Count: {sentence_count}\")\n",
        "    character_count = len(text.replace(\" \", \"\"))\n",
        "    print(f\"Character Count (excluding whitespace): {character_count}\")\n",
        "    average_word_length = sum(len(word) for word in words) / word_count\n",
        "    print(f\"Average Word Length: {average_word_length:.2f}\")\n",
        "\n",
        "  except FileNotFoundError:\n",
        "    print(f\"Error: File '{filename}' not found.\")\n",
        "\n",
        "filename = \"your_text_file.txt\"\n",
        "analyze_text(filename)"
      ]
    },
    {
      "cell_type": "markdown",
      "metadata": {
        "id": "KMum8Jim5pQ7"
      },
      "source": [
        "70.\tDevelop a simple task scheduler that runs functions at specified intervals."
      ]
    },
    {
      "cell_type": "code",
      "execution_count": null,
      "metadata": {
        "id": "k96-TNw-5xMN"
      },
      "outputs": [],
      "source": [
        "import threading\n",
        "import time\n",
        "\n",
        "def schedule_task(function, interval):\n",
        "\n",
        "  def run_task():\n",
        "    while True:\n",
        "      function()\n",
        "      time.sleep(interval)\n",
        "\n",
        "  thread = threading.Thread(target=run_task)\n",
        "  thread.daemon = True\n",
        "  thread.start()\n",
        "\n",
        "def my_task():\n",
        "  print(\"Task executed at:\", time.ctime())\n",
        "schedule_task(my_task, 5)\n",
        "while True:\n",
        "  time.sleep(1)"
      ]
    },
    {
      "cell_type": "markdown",
      "metadata": {
        "id": "Lqyu_qWq5yic"
      },
      "source": [
        "71.\tCreate a budgeting application that tracks expenses using classes."
      ]
    },
    {
      "cell_type": "code",
      "execution_count": null,
      "metadata": {
        "id": "IMn9Q3qT560h"
      },
      "outputs": [],
      "source": [
        "class Expense:\n",
        "    def __init__(self, category, description, amount):\n",
        "        self.category = category\n",
        "        self.description = description\n",
        "        self.amount = amount\n",
        "\n",
        "    def __str__(self):\n",
        "        return f\"Category: {self.category}, Description: {self.description}, Amount: ${self.amount:.2f}\"\n",
        "\n",
        "class Budget:\n",
        "    def __init__(self):\n",
        "        self.expenses = []\n",
        "\n",
        "    def add_expense(self, expense):\n",
        "        self.expenses.append(expense)\n",
        "\n",
        "    def get_expenses_by_category(self, category):\n",
        "        return [expense for expense in self.expenses if expense.category == category]\n",
        "\n",
        "    def get_total_expenses(self):\n",
        "        return sum(expense.amount for expense in self.expenses)\n",
        "\n",
        "    def display_expenses(self):\n",
        "        if self.expenses:\n",
        "            print(\"\\n--- Expenses ---\")\n",
        "            for expense in self.expenses:\n",
        "                print(expense)\n",
        "        else:\n",
        "            print(\"No expenses recorded yet.\")\n",
        "budget = Budget()\n",
        "\n",
        "budget.add_expense(Expense(\"Food\", \"Groceries\", 50.00))\n",
        "budget.add_expense(Expense(\"Entertainment\", \"Movie tickets\", 25.00))\n",
        "budget.add_expense(Expense(\"Food\", \"Restaurant\", 30.00))\n",
        "\n",
        "budget.display_expenses()\n",
        "\n",
        "food_expenses = budget.get_expenses_by_category(\"Food\")\n",
        "print(\"\\nFood Expenses:\")\n",
        "for expense in food_expenses:\n",
        "    print(expense)\n",
        "\n",
        "total_expenses = budget.get_total_expenses()\n",
        "print(f\"\\nTotal Expenses: ${total_expenses:.2f}\")"
      ]
    },
    {
      "cell_type": "markdown",
      "metadata": {
        "id": "1QXW2mNh59K8"
      },
      "source": [
        "72.\tWrite a program that analyzes and visualizes stock market data."
      ]
    },
    {
      "cell_type": "code",
      "execution_count": null,
      "metadata": {
        "id": "iI3vbBke6G5v"
      },
      "outputs": [],
      "source": [
        "import yfinance as yf\n",
        "import matplotlib.pyplot as plt\n",
        "\n",
        "def analyze_stock(ticker_symbol, start_date, end_date):\n",
        "    try:\n",
        "        data = yf.download(ticker_symbol, start=start_date, end=end_date)\n",
        "        print(f\"\\n--- Analysis for {ticker_symbol} ---\")\n",
        "        print(f\"Start Date: {start_date}\")\n",
        "        print(f\"End Date: {end_date}\")\n",
        "        print(data.describe())\n",
        "        plt.figure(figsize=(12, 6))\n",
        "        plt.subplot(2, 1, 1)\n",
        "        plt.plot(data['Close'], label='Closing Price')\n",
        "        plt.title(f'{ticker_symbol} Closing Price History')\n",
        "        plt.xlabel('Date')\n",
        "        plt.ylabel('Price')\n",
        "        plt.legend()\n",
        "\n",
        "        plt.subplot(2, 1, 2)\n",
        "        plt.bar(data.index, data['Volume'], label='Volume')\n",
        "        plt.title(f'{ticker_symbol} Trading Volume')\n",
        "        plt.xlabel('Date')\n",
        "        plt.ylabel('Volume')\n",
        "        plt.legend()\n",
        "\n",
        "        plt.tight_layout()\n",
        "        plt.show()\n",
        "\n",
        "    except Exception as e:\n",
        "        print(f\"Error: {e}\")\n",
        "\n",
        "ticker_symbol = \"AAPL\"\n",
        "start_date = \"2023-01-01\"\n",
        "end_date = \"2023-12-31\"\n",
        "\n",
        "analyze_stock(ticker_symbol, start_date, end_date)"
      ]
    },
    {
      "cell_type": "markdown",
      "metadata": {
        "id": "Z-F4gbdX_uoa"
      },
      "source": [
        "73.\tDevelop a Python script that automates file organization based on file types."
      ]
    },
    {
      "cell_type": "code",
      "execution_count": null,
      "metadata": {
        "id": "gX21KrAO_3hD"
      },
      "outputs": [],
      "source": [
        "import os\n",
        "import shutil\n",
        "\n",
        "def organize_files(source_folder, destination_folder):\n",
        "\n",
        "  os.makedirs(destination_folder, exist_ok=True)\n",
        "\n",
        "  for filename in os.listdir(source_folder):\n",
        "    if os.path.isfile(os.path.join(source_folder, filename)):\n",
        "      base_name, extension = os.path.splitext(filename)\n",
        "      extension = extension.lower()\n",
        "      if extension in ('.jpg', '.jpeg', '.png', '.gif'):\n",
        "        subfolder = 'Images'\n",
        "      elif extension in ('.pdf', '.doc', '.docx', '.txt'):\n",
        "        subfolder = 'Documents'\n",
        "      elif extension in ('.mp3', '.wav', '.ogg'):\n",
        "        subfolder = 'Audio'\n",
        "      elif extension in ('.mp4', '.avi', '.mkv'):\n",
        "        subfolder = 'Videos'\n",
        "      else:\n",
        "        subfolder = 'Other'\n",
        "      subfolder_path = os.path.join(destination_folder, subfolder)\n",
        "      os.makedirs(subfolder_path, exist_ok=True\n",
        "      source_path = os.path.join(source_folder, filename)\n",
        "      destination_path = os.path.join(subfolder_path, filename)\n",
        "      shutil.move(source_path, destination_path)\n",
        "\n",
        "      print(f\"Moved '{filename}' to '{subfolder}'\")\n",
        "\n",
        "source_folder = \"/path/to/your/source/folder\"\n",
        "destination_folder = \"/path/to/your/destination/folder\"\n",
        "\n",
        "organize_files(source_folder, destination_folder)"
      ]
    },
    {
      "cell_type": "markdown",
      "metadata": {
        "id": "M2M7sbgI_7Mh"
      },
      "source": [
        "74.\tCreate a system for monitoring server performance metrics and notifying on anomalies."
      ]
    },
    {
      "cell_type": "code",
      "execution_count": null,
      "metadata": {
        "id": "rtPSfBBDAL9E"
      },
      "outputs": [],
      "source": [
        "import psutil\n",
        "import time\n",
        "import smtplib\n",
        "from email.mime.text import MIMEText\n",
        "\n",
        "def monitor_server():\n",
        "    cpu_threshold = 80.0\n",
        "    memory_threshold = 90.0\n",
        "    disk_threshold = 95.0\n",
        "    sender_email = \"your_email@example.com\"\n",
        "    sender_password = \"your_password\"\n",
        "    receiver_email = \"recipient_email@example.com\"\n",
        "\n",
        "    while True:\n",
        "        cpu_usage = psutil.cpu_percent()\n",
        "        memory_usage = psutil.virtual_memory()."
      ]
    },
    {
      "cell_type": "markdown",
      "metadata": {
        "id": "lBTLNtYLAQ2W"
      },
      "source": [
        "75.\tBuild a simple e-commerce cart system using classes and functions."
      ]
    },
    {
      "cell_type": "code",
      "execution_count": null,
      "metadata": {
        "id": "J01lecCyAZfI"
      },
      "outputs": [],
      "source": [
        "class Product:\n",
        "    def __init__(self, name, price, quantity):\n",
        "        self.name = name\n",
        "        self.price = price\n",
        "        self.quantity = quantity\n",
        "\n",
        "    def __str__(self):\n",
        "        return f\"{self.name} - ${self.price:.2f} - Quantity: {self.quantity}\"\n",
        "\n",
        "class Cart:\n",
        "    def __init__(self):\n",
        "        self.items = []\n",
        "\n",
        "    def add_item(self, product):\n",
        "        self.items.append(product)\n",
        "\n",
        "    def remove_item(self, product_name):\n",
        "        for item in self.items:\n",
        "            if item.name == product_name:\n",
        "                self.items.remove(item)\n",
        "                return True\n",
        "        return False\n",
        "\n",
        "    def get_total_price(self):\n",
        "        return sum(item.price * item.quantity for item in self.items)\n",
        "\n",
        "    def display_cart(self):\n",
        "        if self.items:\n",
        "            print(\"\\n--- Your Cart ---\")\n",
        "            for item in self.items:\n",
        "                print(item)\n",
        "            print(f\"Total Price: ${self.get_total_price():.2f}\")\n",
        "        else:\n",
        "            print(\"Your cart is empty.\")\n",
        "cart = Cart()\n",
        "\n",
        "product1 = Product(\"Shirt\", 25.00, 2)\n",
        "product2 = Product(\"Shoes\", 50.00, 1)\n",
        "\n",
        "cart.add_item(product1)\n",
        "cart.add_item(product2)\n",
        "\n",
        "cart.display_cart()\n",
        "\n",
        "cart.remove_item(\"Shirt\")\n",
        "\n",
        "cart.display_cart()"
      ]
    },
    {
      "cell_type": "markdown",
      "metadata": {
        "id": "L9BZJ7kjAbH7"
      },
      "source": [
        "76.\tImplement a user authentication system with classes and file storage."
      ]
    },
    {
      "cell_type": "code",
      "execution_count": null,
      "metadata": {
        "id": "W2tKwemeAlqM"
      },
      "outputs": [],
      "source": [
        "import json\n",
        "\n",
        "class User:\n",
        "    def __init__(self, username, password):\n",
        "        self.username = username\n",
        "        self.password = password\n",
        "\n",
        "class AuthenticationSystem:\n",
        "    def __init__(self, filename=\"users.json\"):\n",
        "        self.filename = filename\n",
        "        self.users = self.load_users()\n",
        "\n",
        "    def load_users(self):\n",
        "        try:\n",
        "            with open(self.filename, \"r\") as file:\n",
        "                return json.load(file)\n",
        "        except FileNotFoundError:\n",
        "            return {}\n",
        "\n",
        "    def save_users(self):\n",
        "        with open(self.filename, \"w\") as file:\n",
        "            json.dump(self.users, file, indent=4)\n",
        "\n",
        "    def register_user(self, username, password):\n",
        "        if username in self.users:\n",
        "            print(\"Username already exists.\")\n",
        "        else:\n",
        "            self.users[username] = User(username, password).__dict__\n",
        "            self.save_users()\n",
        "            print(f\"User '{username}' registered successfully.\")\n",
        "\n",
        "    def login_user(self, username, password):\n",
        "        user_data = self.users.get(username)\n",
        "        if user_data and user_data[\"password\"] == password:\n",
        "            print(f\"User '{username}' logged in successfully.\")\n",
        "            return True\n",
        "        else:\n",
        "            print(\"Invalid username or password.\")\n",
        "            return False\n",
        "\n",
        "auth_system = AuthenticationSystem()\n",
        "\n",
        "auth_system.register_user(\"user123\", \"password456\")\n",
        "\n",
        "if auth_system.login_user(\"user123\", \"password456\"):\n",
        "    print(\"Access granted!\")\n",
        "else:\n",
        "    print(\"Access denied.\")"
      ]
    },
    {
      "cell_type": "markdown",
      "metadata": {
        "id": "DViUqIB8AnI6"
      },
      "source": [
        "77.\tDesign a quiz application that evaluates user knowledge using functions and data structures."
      ]
    },
    {
      "cell_type": "code",
      "execution_count": null,
      "metadata": {
        "id": "kW5GWuqGAxMM"
      },
      "outputs": [],
      "source": [
        "def create_quiz():\n",
        "    quiz_data = [\n",
        "        {\n",
        "            \"question\": \"What is the capital of France?\",\n",
        "            \"options\": [\"Berlin\", \"Madrid\", \"Paris\", \"Rome\"],\n",
        "            \"answer\": \"Paris\"\n",
        "        },\n",
        "        {\n",
        "            \"question\": \"What is the highest mountain in the world?\",\n",
        "            \"options\": [\"K2\", \"Kangchenjunga\", \"Mount Everest\", \"Lhotse\"],\n",
        "            \"answer\": \"Mount Everest\"\n",
        "        },\n",
        "    ]\n",
        "    return quiz_data\n",
        "\n",
        "def run_quiz(quiz_data):\n",
        "    score = 0\n",
        "    for question_data in quiz_data:\n",
        "        print(question_data[\"question\"])\n",
        "        for i, option in enumerate(question_data[\"options\"]):\n",
        "            print(f\"{i + 1}. {option}\")\n",
        "\n",
        "        while True:\n",
        "            try:\n",
        "                answer_index = int(input(\"Your answer (1-4): \")) - 1\n",
        "                if 0 <= answer_index < len(question_data[\"options\"]):\n",
        "                    break  # Valid input, exit loop\n",
        "                else:\n",
        "                    print(\"Invalid choice. Please enter a number between 1 and 4.\")\n",
        "            except ValueError:\n",
        "                print(\"Invalid input. Please enter a number.\")\n",
        "\n",
        "        if question_data[\"options\"][answer_index] == question_data[\"answer\"]:\n",
        "            score += 1\n",
        "            print(\"Correct!\\n\")\n",
        "        else:\n",
        "            print(f\"Incorrect. The correct answer is: {question_data['answer']}\\n\")\n",
        "\n",
        "    print(f\"You got {score} out of {len(quiz_data)} questions correct.\")\n",
        "\n",
        "# Main execution\n",
        "quiz_data = create_quiz()\n",
        "run_quiz(quiz_data)"
      ]
    },
    {
      "cell_type": "markdown",
      "metadata": {
        "id": "c_L5htqpA0fT"
      },
      "source": [
        "78.\tCreate a simulation of a simple traffic light system."
      ]
    },
    {
      "cell_type": "code",
      "execution_count": 4,
      "metadata": {
        "id": "WmGEifT2BBJF",
        "colab": {
          "base_uri": "https://localhost:8080/",
          "height": 540
        },
        "outputId": "22af94e7-e3b3-4316-b14d-67b34b84fbfe"
      },
      "outputs": [
        {
          "output_type": "stream",
          "name": "stdout",
          "text": [
            "\n",
            "Traffic light is Red\n",
            "\n",
            "Traffic light is Yellow\n",
            "\n",
            "Traffic light is Green\n",
            "\n",
            "Traffic light is Red\n",
            "\n",
            "Traffic light is Yellow\n",
            "\n",
            "Traffic light is Green\n",
            "\n",
            "Traffic light is Red\n"
          ]
        },
        {
          "output_type": "error",
          "ename": "KeyboardInterrupt",
          "evalue": "",
          "traceback": [
            "\u001b[0;31m---------------------------------------------------------------------------\u001b[0m",
            "\u001b[0;31mKeyboardInterrupt\u001b[0m                         Traceback (most recent call last)",
            "\u001b[0;32m<ipython-input-4-683148e6d76b>\u001b[0m in \u001b[0;36m<cell line: 15>\u001b[0;34m()\u001b[0m\n\u001b[1;32m     13\u001b[0m             \u001b[0mtime\u001b[0m\u001b[0;34m.\u001b[0m\u001b[0msleep\u001b[0m\u001b[0;34m(\u001b[0m\u001b[0mduration\u001b[0m\u001b[0;34m)\u001b[0m\u001b[0;34m\u001b[0m\u001b[0;34m\u001b[0m\u001b[0m\n\u001b[1;32m     14\u001b[0m \u001b[0;34m\u001b[0m\u001b[0m\n\u001b[0;32m---> 15\u001b[0;31m \u001b[0mtraffic_light_simulation\u001b[0m\u001b[0;34m(\u001b[0m\u001b[0;34m)\u001b[0m\u001b[0;34m\u001b[0m\u001b[0;34m\u001b[0m\u001b[0m\n\u001b[0m",
            "\u001b[0;32m<ipython-input-4-683148e6d76b>\u001b[0m in \u001b[0;36mtraffic_light_simulation\u001b[0;34m()\u001b[0m\n\u001b[1;32m     11\u001b[0m \u001b[0;34m\u001b[0m\u001b[0m\n\u001b[1;32m     12\u001b[0m             \u001b[0mprint\u001b[0m\u001b[0;34m(\u001b[0m\u001b[0;34mf\"\\nTraffic light is {current_light}\"\u001b[0m\u001b[0;34m)\u001b[0m\u001b[0;34m\u001b[0m\u001b[0;34m\u001b[0m\u001b[0m\n\u001b[0;32m---> 13\u001b[0;31m             \u001b[0mtime\u001b[0m\u001b[0;34m.\u001b[0m\u001b[0msleep\u001b[0m\u001b[0;34m(\u001b[0m\u001b[0mduration\u001b[0m\u001b[0;34m)\u001b[0m\u001b[0;34m\u001b[0m\u001b[0;34m\u001b[0m\u001b[0m\n\u001b[0m\u001b[1;32m     14\u001b[0m \u001b[0;34m\u001b[0m\u001b[0m\n\u001b[1;32m     15\u001b[0m \u001b[0mtraffic_light_simulation\u001b[0m\u001b[0;34m(\u001b[0m\u001b[0;34m)\u001b[0m\u001b[0;34m\u001b[0m\u001b[0;34m\u001b[0m\u001b[0m\n",
            "\u001b[0;31mKeyboardInterrupt\u001b[0m: "
          ]
        }
      ],
      "source": [
        "import time\n",
        "\n",
        "def traffic_light_simulation():\n",
        "    lights = [\"Red\", \"Yellow\", \"Green\"]\n",
        "    light_duration = [5, 2, 7]\n",
        "\n",
        "    while True:\n",
        "        for i in range(len(lights)):\n",
        "            current_light = lights[i]\n",
        "            duration = light_duration[i]\n",
        "\n",
        "            print(f\"\\nTraffic light is {current_light}\")\n",
        "            time.sleep(duration)\n",
        "\n",
        "traffic_light_simulation()"
      ]
    },
    {
      "cell_type": "markdown",
      "metadata": {
        "id": "wds485VPBCvJ"
      },
      "source": [
        "79.\tDevelop a content management system using object-oriented principles and file handling."
      ]
    },
    {
      "source": [
        "class Content:\n",
        "    def __init__(self, title, body):\n",
        "        self.title = title\n",
        "        self.body = body\n",
        "\n",
        "    def __str__(self):\n",
        "        return f\"Title: {self.title}\\nBody: {self.body}\"\n",
        "\n",
        "class User:\n",
        "    def __init__(self, username, password):\n",
        "        self.username = username\n",
        "        self.password = password\n",
        "\n",
        "    def __str__(self):\n",
        "        return f\"Username: {self.username}\"\n",
        "\n",
        "class CMS:\n",
        "    def __init__(self, filename=\"content.txt\"):\n",
        "        self.filename = filename\n",
        "        self.content = self.load_content()\n",
        "        self.users = self.load_users()\n",
        "\n",
        "    def load_content(self):\n",
        "        try:\n",
        "            with open(self.filename, \"r\") as file:\n",
        "                return [Content(line.split(\"|\")[0], line.split(\"|\")[1].strip())\n",
        "                        for line in file if line.strip()]\n",
        "        except FileNotFoundError:\n",
        "            return []\n",
        "\n",
        "    def load_users(self):\n",
        "        # Implement loading users from a file (e.g., users.txt)\n",
        "        # For simplicity, we'll use a hardcoded user for now\n",
        "        return [User(\"admin\", \"password\")]\n",
        "\n",
        "    def save_content(self):\n",
        "        with open(self.filename, \"w\") as file:\n",
        "            for item in self.content:\n",
        "                file.write(f\"{item.title}|{item.body}\\n\")\n",
        "\n",
        "    def add_content(self, title, body):\n",
        "        new_content = Content(title, body)\n",
        "        self.content.append(new_content)\n",
        "        self.save_content()\n",
        "        print(\"Content added successfully.\")\n",
        "\n",
        "    def remove_content(self, title):\n",
        "        for item in self.content:\n",
        "            if item.title == title:\n",
        "                self.content.remove(item)\n",
        "                self.save_content()\n",
        "                print(\"Content removed successfully.\")\n",
        "                return\n",
        "        print(\"Content not found.\")\n",
        "\n",
        "    def display_content(self):\n",
        "        if self.content:\n",
        "            print(\"\\n--- Content ---\")\n",
        "            for item in self.content:\n",
        "                print(item)\n",
        "        else:\n",
        "            print(\"No content available.\")\n",
        "\n",
        "    def login(self, username, password):\n",
        "        for user in self.users:\n",
        "            if user.username == username and user.password == password:\n",
        "                print(\"Login successful.\")\n",
        "                return True\n",
        "        print(\"Login failed.\")\n",
        "        return False"
      ],
      "cell_type": "code",
      "metadata": {
        "id": "iG0Avjc-8dt-"
      },
      "execution_count": 2,
      "outputs": []
    },
    {
      "source": [
        "def main():\n",
        "    cms = CMS()\n",
        "\n",
        "    while True:\n",
        "        print(\"\\nChoose an action:\")\n",
        "        print(\"1. Login\")\n",
        "        print(\"2. Add content\")\n",
        "        print(\"3. Remove content\")\n",
        "        print(\"4. Display content\")\n",
        "        print(\"5. Exit\")\n",
        "\n",
        "        choice = input(\"> \")\n",
        "\n",
        "        if choice == \"1\":\n",
        "            username = input(\"Username: \")\n",
        "            password = input(\"Password: \")\n",
        "            if cms.login(username, password):\n",
        "                break  # Proceed to content management after successful login\n",
        "        elif choice == \"2\":\n",
        "            title = input(\"Title: \")\n",
        "            body = input(\"Body: \")\n",
        "            cms.add_content(title, body)\n",
        "        elif choice == \"3\":\n",
        "            title = input(\"Title to remove: \")\n",
        "            cms.remove_content(title)\n",
        "        elif choice == \"4\":\n",
        "            cms.display_content()\n",
        "        elif choice == \"5\":\n",
        "            break\n",
        "        else:\n",
        "            print(\"Invalid choice.\")\n",
        "\n",
        "if __name__ == \"__main__\":\n",
        "    main()"
      ],
      "cell_type": "code",
      "metadata": {
        "colab": {
          "base_uri": "https://localhost:8080/"
        },
        "id": "rgJSZJl-8quC",
        "outputId": "2ccb2d6a-f635-4be4-f69e-97e39cae2b01"
      },
      "execution_count": 3,
      "outputs": [
        {
          "name": "stdout",
          "output_type": "stream",
          "text": [
            "\n",
            "Choose an action:\n",
            "1. Login\n",
            "2. Add content\n",
            "3. Remove content\n",
            "4. Display content\n",
            "5. Exit\n",
            "> 1\n",
            "Username: aashi\n",
            "Password: 12345\n",
            "Login failed.\n",
            "\n",
            "Choose an action:\n",
            "1. Login\n",
            "2. Add content\n",
            "3. Remove content\n",
            "4. Display content\n",
            "5. Exit\n",
            "> 2\n",
            "Title: python\n",
            "Body: assignment\n",
            "Content added successfully.\n",
            "\n",
            "Choose an action:\n",
            "1. Login\n",
            "2. Add content\n",
            "3. Remove content\n",
            "4. Display content\n",
            "5. Exit\n",
            "> 4\n",
            "\n",
            "--- Content ---\n",
            "Title: python\n",
            "Body: assignment\n",
            "\n",
            "Choose an action:\n",
            "1. Login\n",
            "2. Add content\n",
            "3. Remove content\n",
            "4. Display content\n",
            "5. Exit\n",
            "> 5\n"
          ]
        }
      ]
    }
  ],
  "metadata": {
    "colab": {
      "provenance": []
    },
    "kernelspec": {
      "display_name": "Python 3",
      "name": "python3"
    },
    "language_info": {
      "name": "python"
    }
  },
  "nbformat": 4,
  "nbformat_minor": 0
}